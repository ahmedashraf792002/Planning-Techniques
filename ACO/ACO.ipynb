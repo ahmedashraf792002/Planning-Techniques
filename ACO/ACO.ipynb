{
 "cells": [
  {
   "cell_type": "markdown",
   "id": "54de9015",
   "metadata": {},
   "source": [
    "TSP stands for Traveling Salesman Problem, which is a well-known problem in computer science and operations research. The problem is defined as follows: given a list of cities and the distances between each pair of cities, find the shortest possible route that visits each city exactly once and returns to the starting city."
   ]
  },
  {
   "cell_type": "code",
   "execution_count": 1,
   "id": "cfc484c0",
   "metadata": {},
   "outputs": [],
   "source": [
    "import numpy as np\n",
    "import random\n",
    "import matplotlib.pyplot as plt"
   ]
  },
  {
   "cell_type": "code",
   "execution_count": 2,
   "id": "8d6361cd",
   "metadata": {},
   "outputs": [
    {
     "data": {
      "text/plain": [
       "[(0, 0),\n",
       " (1, 1),\n",
       " (2, 0),\n",
       " (4, 2),\n",
       " (5, 1),\n",
       " (3, 3),\n",
       " (2, 5),\n",
       " (1, 4),\n",
       " (0, 3),\n",
       " (4, 4)]"
      ]
     },
     "execution_count": 2,
     "metadata": {},
     "output_type": "execute_result"
    }
   ],
   "source": [
    "#احداثيات المدن\n",
    "coordinates = [(0, 0), (1, 1), (2, 0), (4, 2), (5, 1), (3, 3), (2, 5), (1, 4), (0, 3), (4, 4)]\n",
    "coordinates"
   ]
  },
  {
   "cell_type": "code",
   "execution_count": 3,
   "id": "83833ac6",
   "metadata": {},
   "outputs": [
    {
     "data": {
      "text/plain": [
       "<matplotlib.legend.Legend at 0x1af21ab1ee0>"
      ]
     },
     "execution_count": 3,
     "metadata": {},
     "output_type": "execute_result"
    },
    {
     "data": {
      "image/png": "[encoded data removed]",
      "text/plain": [
       "<Figure size 640x480 with 1 Axes>"
      ]
     },
     "metadata": {},
     "output_type": "display_data"
    }
   ],
   "source": [
    "x_coords = [coord[0] for coord in coordinates]\n",
    "y_coords = [coord[1] for coord in coordinates]\n",
    "plt.plot(x_coords,y_coords,marker='o',c='r',label='City')\n",
    "plt.title('City Plot')\n",
    "plt.legend()"
   ]
  },
  {
   "cell_type": "code",
   "execution_count": 4,
   "id": "711b1a0f",
   "metadata": {},
   "outputs": [],
   "source": [
    "num_ants =10\n",
    "num_iterations =200\n",
    "alpha = 1\n",
    "beta =1\n",
    "evaporation_rate = 0.1\n",
    "n=10# عدد المدن"
   ]
  },
  {
   "cell_type": "code",
   "execution_count": 5,
   "id": "fc5a4ee6",
   "metadata": {},
   "outputs": [],
   "source": [
    "#تقوم بحساب مصفوفة المسافات بين المدن المختلفة  \n",
    "def calculate_distance_matrix(coordinates):\n",
    "    n = len(coordinates)\n",
    "    distance_matrix = np.zeros((n, n))\n",
    "    for i in range(n):\n",
    "        for j in range(i+1, n):\n",
    "            # Euclidean distance = sqrt((x1 - x2)**2 + (y1 - y2)**2), where (x1, y1)\n",
    "            distance = np.sqrt((coordinates[i][0] - coordinates[j][0])**2 + (coordinates[i][1] - coordinates[j][1])**2)\n",
    "            distance_matrix[i][j] = distance\n",
    "            distance_matrix[j][i] = distance\n",
    "    return distance_matrix"
   ]
  },
  {
   "cell_type": "code",
   "execution_count": 6,
   "id": "1cb5124a",
   "metadata": {},
   "outputs": [
    {
     "data": {
      "text/plain": [
       "array([[0.        , 1.41421356, 2.        , 4.47213595, 5.09901951,\n",
       "        4.24264069, 5.38516481, 4.12310563, 3.        , 5.65685425],\n",
       "       [1.41421356, 0.        , 1.41421356, 3.16227766, 4.        ,\n",
       "        2.82842712, 4.12310563, 3.        , 2.23606798, 4.24264069],\n",
       "       [2.        , 1.41421356, 0.        , 2.82842712, 3.16227766,\n",
       "        3.16227766, 5.        , 4.12310563, 3.60555128, 4.47213595],\n",
       "       [4.47213595, 3.16227766, 2.82842712, 0.        , 1.41421356,\n",
       "        1.41421356, 3.60555128, 3.60555128, 4.12310563, 2.        ],\n",
       "       [5.09901951, 4.        , 3.16227766, 1.41421356, 0.        ,\n",
       "        2.82842712, 5.        , 5.        , 5.38516481, 3.16227766],\n",
       "       [4.24264069, 2.82842712, 3.16227766, 1.41421356, 2.82842712,\n",
       "        0.        , 2.23606798, 2.23606798, 3.        , 1.41421356],\n",
       "       [5.38516481, 4.12310563, 5.        , 3.60555128, 5.        ,\n",
       "        2.23606798, 0.        , 1.41421356, 2.82842712, 2.23606798],\n",
       "       [4.12310563, 3.        , 4.12310563, 3.60555128, 5.        ,\n",
       "        2.23606798, 1.41421356, 0.        , 1.41421356, 3.        ],\n",
       "       [3.        , 2.23606798, 3.60555128, 4.12310563, 5.38516481,\n",
       "        3.        , 2.82842712, 1.41421356, 0.        , 4.12310563],\n",
       "       [5.65685425, 4.24264069, 4.47213595, 2.        , 3.16227766,\n",
       "        1.41421356, 2.23606798, 3.        , 4.12310563, 0.        ]])"
      ]
     },
     "execution_count": 6,
     "metadata": {},
     "output_type": "execute_result"
    }
   ],
   "source": [
    "distance_matrix = calculate_distance_matrix(coordinates)\n",
    "distance_matrix"
   ]
  },
  {
   "cell_type": "code",
   "execution_count": 7,
   "id": "de13b33d",
   "metadata": {},
   "outputs": [
    {
     "data": {
      "text/plain": [
       "array([[1., 1., 1., 1., 1., 1., 1., 1., 1., 1.],\n",
       "       [1., 1., 1., 1., 1., 1., 1., 1., 1., 1.],\n",
       "       [1., 1., 1., 1., 1., 1., 1., 1., 1., 1.],\n",
       "       [1., 1., 1., 1., 1., 1., 1., 1., 1., 1.],\n",
       "       [1., 1., 1., 1., 1., 1., 1., 1., 1., 1.],\n",
       "       [1., 1., 1., 1., 1., 1., 1., 1., 1., 1.],\n",
       "       [1., 1., 1., 1., 1., 1., 1., 1., 1., 1.],\n",
       "       [1., 1., 1., 1., 1., 1., 1., 1., 1., 1.],\n",
       "       [1., 1., 1., 1., 1., 1., 1., 1., 1., 1.],\n",
       "       [1., 1., 1., 1., 1., 1., 1., 1., 1., 1.]])"
      ]
     },
     "execution_count": 7,
     "metadata": {},
     "output_type": "execute_result"
    }
   ],
   "source": [
    "pheromone_matrix = np.ones((n, n))\n",
    "pheromone_matrix"
   ]
  },
  {
   "cell_type": "code",
   "execution_count": 8,
   "id": "1069b40b",
   "metadata": {},
   "outputs": [
    {
     "name": "stderr",
     "output_type": "stream",
     "text": [
      "C:\\Users\\Ahmed Ashraf\\AppData\\Local\\Temp\\ipykernel_11648\\876292475.py:1: RuntimeWarning: divide by zero encountered in true_divide\n",
      "  visibility =1/distance_matrix\n"
     ]
    },
    {
     "data": {
      "text/plain": [
       "array([[0.        , 0.70710678, 0.5       , 0.2236068 , 0.19611614,\n",
       "        0.23570226, 0.18569534, 0.24253563, 0.33333333, 0.1767767 ],\n",
       "       [0.70710678, 0.        , 0.70710678, 0.31622777, 0.25      ,\n",
       "        0.35355339, 0.24253563, 0.33333333, 0.4472136 , 0.23570226],\n",
       "       [0.5       , 0.70710678, 0.        , 0.35355339, 0.31622777,\n",
       "        0.31622777, 0.2       , 0.24253563, 0.2773501 , 0.2236068 ],\n",
       "       [0.2236068 , 0.31622777, 0.35355339, 0.        , 0.70710678,\n",
       "        0.70710678, 0.2773501 , 0.2773501 , 0.24253563, 0.5       ],\n",
       "       [0.19611614, 0.25      , 0.31622777, 0.70710678, 0.        ,\n",
       "        0.35355339, 0.2       , 0.2       , 0.18569534, 0.31622777],\n",
       "       [0.23570226, 0.35355339, 0.31622777, 0.70710678, 0.35355339,\n",
       "        0.        , 0.4472136 , 0.4472136 , 0.33333333, 0.70710678],\n",
       "       [0.18569534, 0.24253563, 0.2       , 0.2773501 , 0.2       ,\n",
       "        0.4472136 , 0.        , 0.70710678, 0.35355339, 0.4472136 ],\n",
       "       [0.24253563, 0.33333333, 0.24253563, 0.2773501 , 0.2       ,\n",
       "        0.4472136 , 0.70710678, 0.        , 0.70710678, 0.33333333],\n",
       "       [0.33333333, 0.4472136 , 0.2773501 , 0.24253563, 0.18569534,\n",
       "        0.33333333, 0.35355339, 0.70710678, 0.        , 0.24253563],\n",
       "       [0.1767767 , 0.23570226, 0.2236068 , 0.5       , 0.31622777,\n",
       "        0.70710678, 0.4472136 , 0.33333333, 0.24253563, 0.        ]])"
      ]
     },
     "execution_count": 8,
     "metadata": {},
     "output_type": "execute_result"
    }
   ],
   "source": [
    "visibility =1/distance_matrix\n",
    "visibility[visibility == np.inf ] = 0\n",
    "visibility"
   ]
  },
  {
   "cell_type": "code",
   "execution_count": 9,
   "id": "12cf3274",
   "metadata": {},
   "outputs": [
    {
     "name": "stdout",
     "output_type": "stream",
     "text": [
      "Iteration 1: Best path = [0, 8, 6, 5, 9, 2, 1, 7, 4, 3], Best distance = 29.251407699364425\n",
      "Iteration 2: Best path = [6, 2, 0, 8, 1, 4, 3, 5, 7, 9], Best distance = 26.53663105724556\n",
      "Iteration 3: Best path = [5, 3, 4, 1, 2, 8, 0, 9, 7, 6], Best distance = 27.15532775194854\n",
      "Iteration 4: Best path = [5, 9, 3, 4, 2, 0, 1, 6, 7, 8], Best distance = 21.35645109765152\n",
      "Iteration 5: Best path = [3, 4, 0, 2, 1, 8, 6, 5, 7, 9], Best distance = 24.464077695584532\n",
      "Iteration 6: Best path = [8, 6, 7, 9, 2, 4, 0, 1, 3, 5], Best distance = 28.966778600794598\n",
      "Iteration 7: Best path = [0, 3, 5, 6, 7, 1, 8, 9, 2, 4], Best distance = 31.629237789123756\n",
      "Iteration 8: Best path = [7, 8, 1, 2, 0, 4, 3, 5, 6, 9], Best distance = 22.464077695584535\n",
      "Iteration 9: Best path = [8, 7, 5, 3, 4, 2, 1, 0, 9, 6], Best distance = 23.190762801272008\n",
      "Iteration 10: Best path = [0, 1, 2, 9, 5, 6, 7, 8, 4, 3], Best distance = 25.050786068872025\n",
      "Iteration 11: Best path = [3, 5, 9, 4, 2, 0, 1, 8, 7, 6], Best distance = 21.237242385166013\n",
      "Iteration 12: Best path = [7, 8, 1, 0, 2, 4, 3, 9, 5, 6], Best distance = 18.705481427033437\n",
      "Iteration 13: Best path = [8, 1, 0, 2, 4, 3, 9, 5, 6, 7], Best distance = 18.705481427033437\n",
      "Iteration 14: Best path = [0, 1, 8, 7, 6, 5, 9, 4, 3, 2], Best distance = 19.533908551779625\n",
      "Iteration 15: Best path = [6, 5, 9, 4, 3, 2, 1, 0, 8, 7], Best distance = 19.71205413665293\n",
      "Iteration 16: Best path = [2, 0, 9, 5, 3, 4, 6, 7, 8, 1], Best distance = 23.378203601230744\n",
      "Iteration 17: Best path = [6, 7, 8, 0, 1, 2, 3, 9, 4, 5], Best distance = 21.71205413665293\n",
      "Iteration 18: Best path = [4, 3, 2, 0, 1, 9, 6, 7, 8, 5], Best distance = 22.792417163603837\n",
      "Iteration 19: Best path = [9, 5, 8, 7, 6, 4, 3, 2, 1, 0], Best distance = 24.970562748477143\n",
      "Iteration 20: Best path = [4, 3, 9, 5, 6, 7, 8, 1, 0, 2], Best distance = 18.705481427033437\n",
      "Iteration 21: Best path = [8, 7, 6, 5, 9, 3, 4, 2, 1, 0], Best distance = 18.88362701190674\n",
      "Iteration 22: Best path = [1, 0, 8, 7, 6, 9, 3, 2, 4, 5], Best distance = 23.126267699026027\n",
      "Iteration 23: Best path = [2, 4, 1, 0, 8, 7, 6, 5, 3, 9], Best distance = 24.52733584216013\n",
      "Iteration 24: Best path = [8, 7, 6, 5, 9, 3, 4, 1, 2, 0], Best distance = 20.307135789365265\n",
      "Iteration 25: Best path = [7, 6, 5, 3, 4, 2, 1, 0, 8, 9], Best distance = 22.592519075151305\n",
      "Iteration 26: Best path = [0, 8, 7, 6, 5, 9, 4, 3, 2, 1], Best distance = 19.712054136652934\n",
      "Iteration 27: Best path = [8, 0, 1, 2, 4, 3, 5, 6, 7, 9], Best distance = 22.59251907515131\n",
      "Iteration 28: Best path = [9, 5, 3, 4, 2, 1, 0, 8, 7, 6], Best distance = 18.29784057427984\n",
      "Iteration 29: Best path = [4, 3, 5, 9, 8, 7, 6, 0, 1, 2], Best distance = 22.57004302953221\n",
      "Iteration 30: Best path = [7, 6, 0, 2, 1, 8, 4, 3, 5, 9], Best distance = 25.077465403634275\n",
      "Iteration 31: Best path = [2, 1, 0, 8, 7, 6, 9, 5, 3, 4], Best distance = 18.297840574279835\n",
      "Iteration 32: Best path = [8, 7, 6, 0, 1, 2, 4, 3, 5, 9], Best distance = 22.570043029532215\n",
      "Iteration 33: Best path = [2, 1, 0, 6, 7, 8, 9, 5, 3, 4], Best distance = 22.57004302953221\n",
      "Iteration 34: Best path = [0, 1, 2, 4, 3, 5, 9, 8, 7, 6], Best distance = 22.57004302953221\n",
      "Iteration 35: Best path = [6, 7, 8, 0, 1, 4, 3, 5, 9, 2], Best distance = 24.95741732923815\n",
      "Iteration 36: Best path = [7, 8, 0, 1, 4, 2, 9, 5, 3, 6], Best distance = 25.311032702497425\n",
      "Iteration 37: Best path = [2, 1, 0, 8, 7, 6, 9, 5, 3, 4], Best distance = 18.297840574279835\n",
      "Iteration 38: Best path = [2, 1, 0, 8, 7, 6, 9, 5, 3, 4], Best distance = 18.297840574279835\n",
      "Iteration 39: Best path = [6, 3, 4, 2, 1, 0, 8, 5, 9, 7], Best distance = 22.83889674749785\n",
      "Iteration 40: Best path = [5, 3, 4, 2, 1, 0, 8, 7, 6, 9], Best distance = 18.297840574279835\n",
      "Iteration 41: Best path = [0, 1, 2, 4, 3, 5, 9, 6, 7, 8], Best distance = 18.29784057427984\n",
      "Iteration 42: Best path = [9, 2, 4, 3, 5, 8, 0, 1, 7, 6], Best distance = 24.52733584216013\n",
      "Iteration 43: Best path = [5, 3, 4, 2, 9, 6, 7, 8, 0, 1], Best distance = 22.76997652927942\n",
      "Iteration 44: Best path = [8, 7, 6, 9, 5, 3, 4, 2, 1, 0], Best distance = 18.29784057427984\n",
      "Iteration 45: Best path = [4, 2, 1, 0, 8, 7, 6, 9, 5, 3], Best distance = 18.29784057427984\n",
      "Iteration 46: Best path = [5, 9, 6, 7, 8, 0, 1, 2, 4, 3], Best distance = 18.297840574279835\n",
      "Iteration 47: Best path = [6, 9, 5, 3, 4, 2, 1, 0, 8, 7], Best distance = 18.297840574279835\n",
      "Iteration 48: Best path = [0, 1, 7, 8, 5, 9, 6, 3, 4, 2], Best distance = 22.66075116262454\n",
      "Iteration 49: Best path = [4, 2, 1, 0, 8, 7, 6, 9, 5, 3], Best distance = 18.29784057427984\n",
      "Iteration 50: Best path = [3, 4, 2, 1, 8, 0, 6, 9, 5, 7], Best distance = 26.103838362385527\n",
      "Iteration 51: Best path = [9, 5, 3, 4, 2, 1, 0, 8, 7, 6], Best distance = 18.29784057427984\n",
      "Iteration 52: Best path = [4, 3, 5, 9, 6, 7, 8, 0, 1, 2], Best distance = 18.297840574279835\n",
      "Iteration 53: Best path = [5, 9, 4, 2, 1, 0, 8, 7, 6, 3], Best distance = 21.41538797003932\n",
      "Iteration 54: Best path = [0, 4, 9, 6, 7, 8, 2, 1, 3, 5], Best distance = 27.164689023504987\n",
      "Iteration 55: Best path = [3, 4, 2, 1, 0, 8, 7, 6, 9, 5], Best distance = 18.29784057427984\n",
      "Iteration 56: Best path = [4, 3, 5, 9, 6, 7, 8, 0, 1, 2], Best distance = 18.297840574279835\n",
      "Iteration 57: Best path = [5, 9, 6, 7, 8, 0, 1, 2, 4, 3], Best distance = 18.297840574279835\n",
      "Iteration 58: Best path = [7, 6, 9, 5, 3, 4, 2, 1, 0, 8], Best distance = 18.297840574279835\n",
      "Iteration 59: Best path = [3, 5, 9, 6, 7, 8, 0, 1, 2, 4], Best distance = 18.297840574279835\n",
      "Iteration 60: Best path = [5, 3, 4, 2, 1, 0, 8, 7, 6, 9], Best distance = 18.297840574279835\n",
      "Iteration 61: Best path = [9, 5, 3, 4, 2, 1, 0, 8, 7, 6], Best distance = 18.29784057427984\n",
      "Iteration 62: Best path = [5, 9, 6, 7, 8, 0, 1, 2, 4, 3], Best distance = 18.297840574279835\n",
      "Iteration 63: Best path = [0, 1, 2, 4, 3, 5, 9, 6, 7, 8], Best distance = 18.29784057427984\n",
      "Iteration 64: Best path = [6, 9, 5, 3, 4, 2, 1, 0, 8, 7], Best distance = 18.297840574279835\n",
      "Iteration 65: Best path = [0, 8, 7, 6, 9, 5, 3, 4, 2, 1], Best distance = 18.29784057427984\n",
      "Iteration 66: Best path = [9, 5, 3, 4, 2, 1, 0, 8, 7, 6], Best distance = 18.29784057427984\n",
      "Iteration 67: Best path = [5, 3, 4, 2, 1, 0, 8, 7, 6, 9], Best distance = 18.297840574279835\n",
      "Iteration 68: Best path = [1, 2, 4, 3, 5, 9, 6, 7, 8, 0], Best distance = 18.297840574279835\n",
      "Iteration 69: Best path = [4, 2, 1, 0, 8, 7, 6, 9, 5, 3], Best distance = 18.29784057427984\n",
      "Iteration 70: Best path = [0, 8, 7, 6, 9, 5, 3, 4, 2, 1], Best distance = 18.29784057427984\n",
      "Iteration 71: Best path = [2, 4, 3, 5, 9, 6, 7, 8, 0, 1], Best distance = 18.29784057427984\n",
      "Iteration 72: Best path = [4, 2, 1, 0, 8, 7, 6, 9, 5, 3], Best distance = 18.29784057427984\n",
      "Iteration 73: Best path = [4, 3, 5, 9, 6, 7, 8, 0, 1, 2], Best distance = 18.297840574279835\n",
      "Iteration 74: Best path = [1, 2, 4, 3, 5, 9, 6, 7, 8, 0], Best distance = 18.297840574279835\n",
      "Iteration 75: Best path = [1, 0, 8, 7, 6, 9, 5, 3, 4, 2], Best distance = 18.297840574279835\n",
      "Iteration 76: Best path = [7, 8, 0, 1, 2, 4, 3, 5, 9, 6], Best distance = 18.297840574279835\n",
      "Iteration 77: Best path = [2, 1, 0, 8, 7, 6, 9, 5, 3, 4], Best distance = 18.297840574279835\n",
      "Iteration 78: Best path = [7, 6, 9, 5, 3, 4, 2, 1, 0, 8], Best distance = 18.297840574279835\n",
      "Iteration 79: Best path = [3, 4, 2, 1, 0, 8, 7, 6, 9, 5], Best distance = 18.29784057427984\n",
      "Iteration 80: Best path = [5, 3, 4, 2, 1, 0, 8, 7, 6, 9], Best distance = 18.297840574279835\n",
      "Iteration 81: Best path = [4, 3, 5, 9, 6, 7, 8, 0, 1, 2], Best distance = 18.297840574279835\n",
      "Iteration 82: Best path = [5, 9, 6, 7, 8, 0, 1, 2, 4, 3], Best distance = 18.297840574279835\n",
      "Iteration 83: Best path = [3, 5, 9, 6, 7, 8, 0, 1, 2, 4], Best distance = 18.297840574279835\n",
      "Iteration 84: Best path = [0, 8, 7, 6, 9, 5, 3, 4, 2, 1], Best distance = 18.29784057427984\n",
      "Iteration 85: Best path = [0, 8, 7, 6, 9, 5, 3, 4, 2, 1], Best distance = 18.29784057427984\n",
      "Iteration 86: Best path = [1, 2, 4, 3, 5, 9, 6, 7, 8, 0], Best distance = 18.297840574279835\n",
      "Iteration 87: Best path = [3, 4, 2, 1, 0, 8, 7, 6, 9, 5], Best distance = 18.29784057427984\n",
      "Iteration 88: Best path = [2, 1, 0, 8, 7, 6, 9, 5, 3, 4], Best distance = 18.297840574279835\n",
      "Iteration 89: Best path = [1, 2, 4, 3, 5, 9, 6, 7, 8, 0], Best distance = 18.297840574279835\n",
      "Iteration 90: Best path = [8, 0, 1, 2, 4, 3, 5, 9, 6, 7], Best distance = 18.29784057427984\n",
      "Iteration 91: Best path = [4, 3, 5, 9, 6, 7, 8, 0, 1, 2], Best distance = 18.297840574279835\n",
      "Iteration 92: Best path = [9, 5, 3, 4, 2, 1, 0, 8, 7, 6], Best distance = 18.29784057427984\n",
      "Iteration 93: Best path = [8, 0, 1, 2, 4, 3, 5, 9, 6, 7], Best distance = 18.29784057427984\n",
      "Iteration 94: Best path = [1, 2, 4, 3, 5, 9, 6, 7, 8, 0], Best distance = 18.297840574279835\n",
      "Iteration 95: Best path = [9, 5, 3, 4, 2, 1, 0, 8, 7, 6], Best distance = 18.29784057427984\n",
      "Iteration 96: Best path = [5, 9, 6, 7, 8, 0, 1, 2, 4, 3], Best distance = 18.297840574279835\n",
      "Iteration 97: Best path = [4, 3, 5, 9, 6, 7, 8, 0, 1, 2], Best distance = 18.297840574279835\n",
      "Iteration 98: Best path = [7, 6, 9, 5, 3, 4, 2, 1, 0, 8], Best distance = 18.297840574279835\n",
      "Iteration 99: Best path = [1, 0, 8, 7, 6, 9, 5, 3, 4, 2], Best distance = 18.297840574279835\n",
      "Iteration 100: Best path = [8, 7, 6, 9, 5, 3, 4, 2, 1, 0], Best distance = 18.29784057427984\n",
      "Iteration 101: Best path = [0, 1, 2, 4, 3, 5, 9, 6, 7, 8], Best distance = 18.29784057427984\n",
      "Iteration 102: Best path = [2, 1, 0, 8, 7, 6, 9, 5, 3, 4], Best distance = 18.297840574279835\n",
      "Iteration 103: Best path = [9, 5, 3, 4, 2, 1, 0, 8, 7, 6], Best distance = 18.29784057427984\n",
      "Iteration 104: Best path = [2, 1, 0, 8, 7, 6, 9, 5, 3, 4], Best distance = 18.297840574279835\n",
      "Iteration 105: Best path = [3, 4, 2, 1, 0, 8, 7, 6, 9, 5], Best distance = 18.29784057427984\n",
      "Iteration 106: Best path = [4, 3, 5, 9, 6, 7, 8, 0, 1, 2], Best distance = 18.297840574279835\n",
      "Iteration 107: Best path = [8, 7, 6, 9, 5, 3, 4, 2, 1, 0], Best distance = 18.29784057427984\n",
      "Iteration 108: Best path = [1, 2, 4, 3, 5, 9, 6, 7, 8, 0], Best distance = 18.297840574279835\n",
      "Iteration 109: Best path = [1, 0, 8, 7, 6, 9, 5, 3, 4, 2], Best distance = 18.297840574279835\n",
      "Iteration 110: Best path = [8, 7, 6, 9, 5, 3, 4, 2, 1, 0], Best distance = 18.29784057427984\n",
      "Iteration 111: Best path = [5, 9, 6, 7, 8, 0, 1, 2, 4, 3], Best distance = 18.297840574279835\n",
      "Iteration 112: Best path = [4, 3, 5, 9, 6, 7, 8, 0, 1, 2], Best distance = 18.297840574279835\n",
      "Iteration 113: Best path = [4, 2, 1, 0, 8, 7, 6, 9, 5, 3], Best distance = 18.29784057427984\n",
      "Iteration 114: Best path = [8, 7, 6, 9, 5, 3, 4, 2, 1, 0], Best distance = 18.29784057427984\n",
      "Iteration 115: Best path = [9, 6, 7, 8, 0, 1, 2, 4, 3, 5], Best distance = 18.29784057427984\n",
      "Iteration 116: Best path = [5, 3, 4, 2, 1, 0, 8, 7, 6, 9], Best distance = 18.297840574279835\n",
      "Iteration 117: Best path = [7, 6, 9, 5, 3, 4, 2, 1, 0, 8], Best distance = 18.297840574279835\n",
      "Iteration 118: Best path = [7, 8, 0, 1, 2, 4, 3, 5, 9, 6], Best distance = 18.297840574279835\n",
      "Iteration 119: Best path = [2, 4, 3, 5, 9, 6, 7, 8, 0, 1], Best distance = 18.29784057427984\n",
      "Iteration 120: Best path = [0, 8, 7, 6, 9, 5, 3, 4, 2, 1], Best distance = 18.29784057427984\n",
      "Iteration 121: Best path = [0, 1, 2, 4, 3, 5, 9, 6, 7, 8], Best distance = 18.29784057427984\n",
      "Iteration 122: Best path = [4, 3, 5, 9, 6, 7, 8, 0, 1, 2], Best distance = 18.297840574279835\n",
      "Iteration 123: Best path = [4, 2, 1, 0, 8, 7, 6, 9, 5, 3], Best distance = 18.29784057427984\n",
      "Iteration 124: Best path = [2, 4, 3, 5, 9, 6, 7, 8, 0, 1], Best distance = 18.29784057427984\n",
      "Iteration 125: Best path = [1, 0, 8, 7, 6, 9, 5, 3, 4, 2], Best distance = 18.297840574279835\n",
      "Iteration 126: Best path = [6, 7, 8, 0, 1, 2, 4, 3, 5, 9], Best distance = 18.297840574279835\n",
      "Iteration 127: Best path = [2, 1, 0, 8, 7, 6, 9, 5, 3, 4], Best distance = 18.297840574279835\n",
      "Iteration 128: Best path = [0, 8, 7, 6, 9, 5, 3, 4, 2, 1], Best distance = 18.29784057427984\n",
      "Iteration 129: Best path = [9, 5, 3, 4, 2, 1, 0, 8, 7, 6], Best distance = 18.29784057427984\n",
      "Iteration 130: Best path = [6, 7, 8, 0, 1, 2, 4, 3, 5, 9], Best distance = 18.297840574279835\n",
      "Iteration 131: Best path = [7, 6, 9, 5, 3, 4, 2, 1, 0, 8], Best distance = 18.297840574279835\n",
      "Iteration 132: Best path = [2, 1, 0, 8, 7, 6, 9, 5, 3, 4], Best distance = 18.297840574279835\n",
      "Iteration 133: Best path = [1, 2, 4, 3, 5, 9, 6, 7, 8, 0], Best distance = 18.297840574279835\n",
      "Iteration 134: Best path = [3, 4, 2, 1, 0, 8, 7, 6, 9, 5], Best distance = 18.29784057427984\n",
      "Iteration 135: Best path = [8, 7, 6, 9, 5, 3, 4, 2, 1, 0], Best distance = 18.29784057427984\n",
      "Iteration 136: Best path = [4, 3, 5, 9, 6, 7, 8, 0, 1, 2], Best distance = 18.297840574279835\n",
      "Iteration 137: Best path = [6, 9, 5, 3, 4, 2, 1, 0, 8, 7], Best distance = 18.297840574279835\n",
      "Iteration 138: Best path = [3, 5, 9, 6, 7, 8, 0, 1, 2, 4], Best distance = 18.297840574279835\n",
      "Iteration 139: Best path = [1, 2, 4, 3, 5, 9, 6, 7, 8, 0], Best distance = 18.297840574279835\n",
      "Iteration 140: Best path = [9, 6, 7, 8, 0, 1, 2, 4, 3, 5], Best distance = 18.29784057427984\n",
      "Iteration 141: Best path = [4, 2, 1, 0, 8, 7, 6, 9, 5, 3], Best distance = 18.29784057427984\n",
      "Iteration 142: Best path = [1, 0, 8, 7, 6, 9, 5, 3, 4, 2], Best distance = 18.297840574279835\n",
      "Iteration 143: Best path = [4, 3, 5, 9, 6, 7, 8, 0, 1, 2], Best distance = 18.297840574279835\n",
      "Iteration 144: Best path = [9, 6, 7, 8, 0, 1, 2, 4, 3, 5], Best distance = 18.29784057427984\n",
      "Iteration 145: Best path = [8, 0, 1, 2, 4, 3, 5, 9, 6, 7], Best distance = 18.29784057427984\n",
      "Iteration 146: Best path = [7, 8, 0, 1, 2, 4, 3, 5, 9, 6], Best distance = 18.297840574279835\n",
      "Iteration 147: Best path = [1, 2, 4, 3, 5, 9, 6, 7, 8, 0], Best distance = 18.297840574279835\n",
      "Iteration 148: Best path = [5, 3, 4, 2, 1, 0, 8, 7, 6, 9], Best distance = 18.297840574279835\n",
      "Iteration 149: Best path = [7, 8, 0, 1, 2, 4, 3, 5, 9, 6], Best distance = 18.297840574279835\n",
      "Iteration 150: Best path = [5, 9, 6, 7, 8, 0, 1, 2, 4, 3], Best distance = 18.297840574279835\n",
      "Iteration 151: Best path = [8, 7, 6, 9, 5, 3, 4, 2, 1, 0], Best distance = 18.29784057427984\n",
      "Iteration 152: Best path = [3, 5, 9, 6, 7, 8, 0, 1, 2, 4], Best distance = 18.297840574279835\n",
      "Iteration 153: Best path = [6, 7, 8, 0, 1, 2, 4, 3, 5, 9], Best distance = 18.297840574279835\n",
      "Iteration 154: Best path = [5, 3, 4, 2, 1, 0, 8, 7, 6, 9], Best distance = 18.297840574279835\n",
      "Iteration 155: Best path = [4, 3, 5, 9, 6, 7, 8, 0, 1, 2], Best distance = 18.297840574279835\n",
      "Iteration 156: Best path = [3, 4, 2, 1, 0, 8, 7, 6, 9, 5], Best distance = 18.29784057427984\n",
      "Iteration 157: Best path = [5, 9, 6, 7, 8, 0, 1, 2, 4, 3], Best distance = 18.297840574279835\n",
      "Iteration 158: Best path = [5, 9, 6, 7, 8, 0, 1, 2, 4, 3], Best distance = 18.297840574279835\n",
      "Iteration 159: Best path = [7, 8, 0, 1, 2, 4, 3, 5, 9, 6], Best distance = 18.297840574279835\n",
      "Iteration 160: Best path = [0, 1, 2, 4, 3, 5, 9, 6, 7, 8], Best distance = 18.29784057427984\n",
      "Iteration 161: Best path = [3, 4, 2, 1, 0, 8, 7, 6, 9, 5], Best distance = 18.29784057427984\n",
      "Iteration 162: Best path = [1, 2, 4, 3, 5, 9, 6, 7, 8, 0], Best distance = 18.297840574279835\n",
      "Iteration 163: Best path = [1, 2, 4, 3, 5, 9, 6, 7, 8, 0], Best distance = 18.297840574279835\n",
      "Iteration 164: Best path = [4, 3, 5, 9, 6, 7, 8, 0, 1, 2], Best distance = 18.297840574279835\n",
      "Iteration 165: Best path = [3, 4, 2, 1, 0, 8, 7, 6, 9, 5], Best distance = 18.29784057427984\n",
      "Iteration 166: Best path = [5, 9, 6, 7, 8, 0, 1, 2, 4, 3], Best distance = 18.297840574279835\n",
      "Iteration 167: Best path = [4, 3, 5, 9, 6, 7, 8, 0, 1, 2], Best distance = 18.297840574279835\n",
      "Iteration 168: Best path = [8, 0, 1, 2, 4, 3, 5, 9, 6, 7], Best distance = 18.29784057427984\n",
      "Iteration 169: Best path = [8, 7, 6, 9, 5, 3, 4, 2, 1, 0], Best distance = 18.29784057427984\n",
      "Iteration 170: Best path = [0, 1, 2, 4, 3, 5, 9, 6, 7, 8], Best distance = 18.29784057427984\n",
      "Iteration 171: Best path = [0, 8, 7, 6, 9, 5, 3, 4, 2, 1], Best distance = 18.29784057427984\n",
      "Iteration 172: Best path = [8, 7, 6, 9, 5, 3, 4, 2, 1, 0], Best distance = 18.29784057427984\n",
      "Iteration 173: Best path = [4, 3, 5, 9, 6, 7, 8, 0, 1, 2], Best distance = 18.297840574279835\n",
      "Iteration 174: Best path = [3, 5, 9, 6, 7, 8, 0, 1, 2, 4], Best distance = 18.297840574279835\n",
      "Iteration 175: Best path = [2, 1, 0, 8, 7, 6, 9, 5, 3, 4], Best distance = 18.297840574279835\n"
     ]
    },
    {
     "name": "stdout",
     "output_type": "stream",
     "text": [
      "Iteration 176: Best path = [0, 1, 2, 4, 3, 5, 9, 6, 7, 8], Best distance = 18.29784057427984\n",
      "Iteration 177: Best path = [3, 4, 2, 1, 0, 8, 7, 6, 9, 5], Best distance = 18.29784057427984\n",
      "Iteration 178: Best path = [2, 1, 0, 8, 7, 6, 9, 5, 3, 4], Best distance = 18.297840574279835\n",
      "Iteration 179: Best path = [4, 2, 1, 0, 8, 7, 6, 9, 5, 3], Best distance = 18.29784057427984\n",
      "Iteration 180: Best path = [2, 1, 0, 8, 7, 6, 9, 5, 3, 4], Best distance = 18.297840574279835\n",
      "Iteration 181: Best path = [0, 1, 2, 4, 3, 5, 9, 6, 7, 8], Best distance = 18.29784057427984\n",
      "Iteration 182: Best path = [9, 6, 7, 8, 0, 1, 2, 4, 3, 5], Best distance = 18.29784057427984\n",
      "Iteration 183: Best path = [3, 5, 9, 6, 7, 8, 0, 1, 2, 4], Best distance = 18.297840574279835\n",
      "Iteration 184: Best path = [1, 0, 8, 7, 6, 9, 5, 3, 4, 2], Best distance = 18.297840574279835\n",
      "Iteration 185: Best path = [6, 7, 8, 0, 1, 2, 4, 3, 5, 9], Best distance = 18.297840574279835\n",
      "Iteration 186: Best path = [1, 0, 8, 7, 6, 9, 5, 3, 4, 2], Best distance = 18.297840574279835\n",
      "Iteration 187: Best path = [4, 3, 5, 9, 6, 7, 8, 0, 1, 2], Best distance = 18.297840574279835\n",
      "Iteration 188: Best path = [6, 9, 5, 3, 4, 2, 1, 0, 8, 7], Best distance = 18.297840574279835\n",
      "Iteration 189: Best path = [7, 8, 0, 1, 2, 4, 3, 5, 9, 6], Best distance = 18.297840574279835\n",
      "Iteration 190: Best path = [1, 0, 8, 7, 6, 9, 5, 3, 4, 2], Best distance = 18.297840574279835\n",
      "Iteration 191: Best path = [6, 7, 8, 0, 1, 2, 4, 3, 5, 9], Best distance = 18.297840574279835\n",
      "Iteration 192: Best path = [8, 7, 6, 9, 5, 3, 4, 2, 1, 0], Best distance = 18.29784057427984\n",
      "Iteration 193: Best path = [6, 9, 5, 3, 4, 2, 1, 0, 8, 7], Best distance = 18.297840574279835\n",
      "Iteration 194: Best path = [6, 7, 8, 0, 1, 2, 4, 3, 5, 9], Best distance = 18.297840574279835\n",
      "Iteration 195: Best path = [9, 5, 3, 4, 2, 1, 0, 8, 7, 6], Best distance = 18.29784057427984\n",
      "Iteration 196: Best path = [5, 9, 6, 7, 8, 0, 1, 2, 4, 3], Best distance = 18.297840574279835\n",
      "Iteration 197: Best path = [9, 5, 3, 4, 2, 1, 0, 8, 7, 6], Best distance = 18.29784057427984\n",
      "Iteration 198: Best path = [4, 3, 5, 9, 6, 7, 8, 0, 1, 2], Best distance = 18.297840574279835\n",
      "Iteration 199: Best path = [5, 9, 6, 7, 8, 0, 1, 2, 4, 3], Best distance = 18.297840574279835\n",
      "Iteration 200: Best path = [5, 9, 6, 7, 8, 0, 1, 2, 4, 3], Best distance = 18.297840574279835\n"
     ]
    }
   ],
   "source": [
    "distance_f=[]\n",
    "for iteration in range(num_iterations):\n",
    "    for ant in range(num_ants):\n",
    "        #full path\n",
    "        path = []\n",
    "        #vist city\n",
    "        visited = np.zeros(n, dtype=bool)\n",
    "        #city random\n",
    "        current_city = random.randint(0, n-1)\n",
    "        #city true\n",
    "        visited[current_city] = True\n",
    "        temp_visibility = np.array(visibility)\n",
    "        path.append(current_city)\n",
    "        for i in range(n-1):\n",
    "            combine_feature = np.zeros(n) \n",
    "            cum_prob = np.zeros(n) \n",
    "            temp_visibility[:,current_city] = 0   \n",
    "            #print(temp_visibility)\n",
    "            p_feature = np.power(pheromone_matrix[current_city,:],alpha)\n",
    "            #print(f'p_feature is : {p_feature}')\n",
    "            v_feature = np.power(temp_visibility[current_city,:],beta) \n",
    "            #print(f'v_feature is : {v_feature}')\n",
    "            combine_feature = np.multiply(p_feature,v_feature)\n",
    "            #print(f'combine_feature is : {combine_feature}')\n",
    "            total = np.sum(combine_feature)\n",
    "          #  print(f'total of combine_feature is : {total}')\n",
    "            probs = combine_feature/total   \n",
    "           # print(f'probability of elemen is : {probs}')\n",
    "            #calculating cummulative sum\n",
    "            cum_probs = np.cumsum(probs)\n",
    "            #print(f'cum_prob is : {cum_probs}')\n",
    "            # Choose the next city to visit based on the probabilities\n",
    "            r = np.random.random()\n",
    "            next_city = np.nonzero(cum_probs > r)[0][0]\n",
    "            \n",
    "            # Update the path and visited arrays\n",
    "            visited[next_city] = True\n",
    "            path.append(next_city)\n",
    "            \n",
    "            # Update the current city\n",
    "            current_city = next_city\n",
    "        \n",
    "        # Update the pheromone matrix\n",
    "        distance = 0\n",
    "        for i in range(n-1):\n",
    "            #مسافة قبلها مدينة بالاوللى \n",
    "            distance += distance_matrix[path[i]][path[i+1]]\n",
    "        #مسافة اخر مدينة بالاوللى    \n",
    "        distance += distance_matrix[path[-1]][path[0]]\n",
    "        pheromone_matrix *= (1 - evaporation_rate)\n",
    "        for i in range(n-1):\n",
    "            pheromone_matrix[path[i], path[i+1]] += 1/distance\n",
    "            pheromone_matrix[path[i+1], path[i]] += 1/distance\n",
    "    # Print the best path and distance so far\n",
    "    best_path = path\n",
    "    best_distance = distance\n",
    "    distance_f.append(distance)\n",
    "    print(f\"Iteration {iteration+1}: Best path = {best_path}, Best distance = {best_distance}\")"
   ]
  },
  {
   "cell_type": "code",
   "execution_count": 10,
   "id": "c5e1e079",
   "metadata": {},
   "outputs": [
    {
     "data": {
      "text/plain": [
       "[5, 9, 6, 7, 8, 0, 1, 2, 4, 3]"
      ]
     },
     "execution_count": 10,
     "metadata": {},
     "output_type": "execute_result"
    }
   ],
   "source": [
    "best_path"
   ]
  },
  {
   "cell_type": "code",
   "execution_count": 11,
   "id": "ddf6e0e6",
   "metadata": {},
   "outputs": [
    {
     "data": {
      "text/plain": [
       "<matplotlib.legend.Legend at 0x1af223c8ee0>"
      ]
     },
     "execution_count": 11,
     "metadata": {},
     "output_type": "execute_result"
    },
    {
     "data": {
      "image/png": "[encoded data removed]",
      "text/plain": [
       "<Figure size 640x480 with 1 Axes>"
      ]
     },
     "metadata": {},
     "output_type": "display_data"
    }
   ],
   "source": [
    "plt.plot(distance_f,c='r',marker='o',label='Distance')\n",
    "plt.title('Distance Plot')\n",
    "plt.legend()"
   ]
  }
 ],
 "metadata": {
  "kernelspec": {
   "display_name": "Python 3 (ipykernel)",
   "language": "python",
   "name": "python3"
  },
  "language_info": {
   "codemirror_mode": {
    "name": "ipython",
    "version": 3
   },
   "file_extension": ".py",
   "mimetype": "text/x-python",
   "name": "python",
   "nbconvert_exporter": "python",
   "pygments_lexer": "ipython3",
   "version": "3.9.13"
  }
 },
 "nbformat": 4,
 "nbformat_minor": 5
}
