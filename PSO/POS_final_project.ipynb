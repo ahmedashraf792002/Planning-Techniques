{
 "cells": [
  {
   "cell_type": "markdown",
   "id": "03748a9a",
   "metadata": {},
   "source": [
    "Machine Learning Hyperparameter Tuning: Given a machine learning model and a set of hyperparameters, determine the optimal values for the hyperparameters that maximize the model's accuracy on a validation set"
   ]
  },
  {
   "cell_type": "code",
   "execution_count": 1,
   "id": "2398f1dd",
   "metadata": {
    "execution": {
     "iopub.execute_input": "2023-05-10T20:52:43.886410Z",
     "iopub.status.busy": "2023-05-10T20:52:43.885716Z",
     "iopub.status.idle": "2023-05-10T20:52:43.891828Z",
     "shell.execute_reply": "2023-05-10T20:52:43.890824Z",
     "shell.execute_reply.started": "2023-05-10T20:52:43.886375Z"
    }
   },
   "outputs": [],
   "source": [
    "from sklearn.datasets import load_breast_cancer\n",
    "from sklearn.model_selection import train_test_split\n",
    "from sklearn.svm import SVC\n",
    "from sklearn.metrics import accuracy_score\n",
    "import numpy as np\n",
    "import pandas as pd\n",
    "import random\n",
    "from sklearn.metrics import confusion_matrix\n",
    "import seaborn as sns\n",
    "import matplotlib.pyplot as plt"
   ]
  },
  {
   "cell_type": "code",
   "execution_count": 2,
   "id": "e4f39c47",
   "metadata": {
    "execution": {
     "iopub.execute_input": "2023-05-10T20:52:43.895133Z",
     "iopub.status.busy": "2023-05-10T20:52:43.894109Z",
     "iopub.status.idle": "2023-05-10T20:52:43.911457Z",
     "shell.execute_reply": "2023-05-10T20:52:43.910455Z",
     "shell.execute_reply.started": "2023-05-10T20:52:43.895081Z"
    }
   },
   "outputs": [],
   "source": [
    "data = load_breast_cancer()"
   ]
  },
  {
   "cell_type": "code",
   "execution_count": 3,
   "id": "feecaa6b",
   "metadata": {
    "execution": {
     "iopub.execute_input": "2023-05-10T20:52:43.913808Z",
     "iopub.status.busy": "2023-05-10T20:52:43.913152Z",
     "iopub.status.idle": "2023-05-10T20:52:43.942950Z",
     "shell.execute_reply": "2023-05-10T20:52:43.941903Z",
     "shell.execute_reply.started": "2023-05-10T20:52:43.913775Z"
    }
   },
   "outputs": [
    {
     "data": {
      "text/html": [
       "<div>\n",
       "<style scoped>\n",
       "    .dataframe tbody tr th:only-of-type {\n",
       "        vertical-align: middle;\n",
       "    }\n",
       "\n",
       "    .dataframe tbody tr th {\n",
       "        vertical-align: top;\n",
       "    }\n",
       "\n",
       "    .dataframe thead th {\n",
       "        text-align: right;\n",
       "    }\n",
       "</style>\n",
       "<table border=\"1\" class=\"dataframe\">\n",
       "  <thead>\n",
       "    <tr style=\"text-align: right;\">\n",
       "      <th></th>\n",
       "      <th>0</th>\n",
       "      <th>1</th>\n",
       "      <th>2</th>\n",
       "      <th>3</th>\n",
       "      <th>4</th>\n",
       "      <th>5</th>\n",
       "      <th>6</th>\n",
       "      <th>7</th>\n",
       "      <th>8</th>\n",
       "      <th>9</th>\n",
       "      <th>...</th>\n",
       "      <th>20</th>\n",
       "      <th>21</th>\n",
       "      <th>22</th>\n",
       "      <th>23</th>\n",
       "      <th>24</th>\n",
       "      <th>25</th>\n",
       "      <th>26</th>\n",
       "      <th>27</th>\n",
       "      <th>28</th>\n",
       "      <th>29</th>\n",
       "    </tr>\n",
       "  </thead>\n",
       "  <tbody>\n",
       "    <tr>\n",
       "      <th>0</th>\n",
       "      <td>17.99</td>\n",
       "      <td>10.38</td>\n",
       "      <td>122.80</td>\n",
       "      <td>1001.0</td>\n",
       "      <td>0.11840</td>\n",
       "      <td>0.27760</td>\n",
       "      <td>0.3001</td>\n",
       "      <td>0.14710</td>\n",
       "      <td>0.2419</td>\n",
       "      <td>0.07871</td>\n",
       "      <td>...</td>\n",
       "      <td>25.38</td>\n",
       "      <td>17.33</td>\n",
       "      <td>184.60</td>\n",
       "      <td>2019.0</td>\n",
       "      <td>0.1622</td>\n",
       "      <td>0.6656</td>\n",
       "      <td>0.7119</td>\n",
       "      <td>0.2654</td>\n",
       "      <td>0.4601</td>\n",
       "      <td>0.11890</td>\n",
       "    </tr>\n",
       "    <tr>\n",
       "      <th>1</th>\n",
       "      <td>20.57</td>\n",
       "      <td>17.77</td>\n",
       "      <td>132.90</td>\n",
       "      <td>1326.0</td>\n",
       "      <td>0.08474</td>\n",
       "      <td>0.07864</td>\n",
       "      <td>0.0869</td>\n",
       "      <td>0.07017</td>\n",
       "      <td>0.1812</td>\n",
       "      <td>0.05667</td>\n",
       "      <td>...</td>\n",
       "      <td>24.99</td>\n",
       "      <td>23.41</td>\n",
       "      <td>158.80</td>\n",
       "      <td>1956.0</td>\n",
       "      <td>0.1238</td>\n",
       "      <td>0.1866</td>\n",
       "      <td>0.2416</td>\n",
       "      <td>0.1860</td>\n",
       "      <td>0.2750</td>\n",
       "      <td>0.08902</td>\n",
       "    </tr>\n",
       "    <tr>\n",
       "      <th>2</th>\n",
       "      <td>19.69</td>\n",
       "      <td>21.25</td>\n",
       "      <td>130.00</td>\n",
       "      <td>1203.0</td>\n",
       "      <td>0.10960</td>\n",
       "      <td>0.15990</td>\n",
       "      <td>0.1974</td>\n",
       "      <td>0.12790</td>\n",
       "      <td>0.2069</td>\n",
       "      <td>0.05999</td>\n",
       "      <td>...</td>\n",
       "      <td>23.57</td>\n",
       "      <td>25.53</td>\n",
       "      <td>152.50</td>\n",
       "      <td>1709.0</td>\n",
       "      <td>0.1444</td>\n",
       "      <td>0.4245</td>\n",
       "      <td>0.4504</td>\n",
       "      <td>0.2430</td>\n",
       "      <td>0.3613</td>\n",
       "      <td>0.08758</td>\n",
       "    </tr>\n",
       "    <tr>\n",
       "      <th>3</th>\n",
       "      <td>11.42</td>\n",
       "      <td>20.38</td>\n",
       "      <td>77.58</td>\n",
       "      <td>386.1</td>\n",
       "      <td>0.14250</td>\n",
       "      <td>0.28390</td>\n",
       "      <td>0.2414</td>\n",
       "      <td>0.10520</td>\n",
       "      <td>0.2597</td>\n",
       "      <td>0.09744</td>\n",
       "      <td>...</td>\n",
       "      <td>14.91</td>\n",
       "      <td>26.50</td>\n",
       "      <td>98.87</td>\n",
       "      <td>567.7</td>\n",
       "      <td>0.2098</td>\n",
       "      <td>0.8663</td>\n",
       "      <td>0.6869</td>\n",
       "      <td>0.2575</td>\n",
       "      <td>0.6638</td>\n",
       "      <td>0.17300</td>\n",
       "    </tr>\n",
       "    <tr>\n",
       "      <th>4</th>\n",
       "      <td>20.29</td>\n",
       "      <td>14.34</td>\n",
       "      <td>135.10</td>\n",
       "      <td>1297.0</td>\n",
       "      <td>0.10030</td>\n",
       "      <td>0.13280</td>\n",
       "      <td>0.1980</td>\n",
       "      <td>0.10430</td>\n",
       "      <td>0.1809</td>\n",
       "      <td>0.05883</td>\n",
       "      <td>...</td>\n",
       "      <td>22.54</td>\n",
       "      <td>16.67</td>\n",
       "      <td>152.20</td>\n",
       "      <td>1575.0</td>\n",
       "      <td>0.1374</td>\n",
       "      <td>0.2050</td>\n",
       "      <td>0.4000</td>\n",
       "      <td>0.1625</td>\n",
       "      <td>0.2364</td>\n",
       "      <td>0.07678</td>\n",
       "    </tr>\n",
       "  </tbody>\n",
       "</table>\n",
       "<p>5 rows × 30 columns</p>\n",
       "</div>"
      ],
      "text/plain": [
       "      0      1       2       3        4        5       6        7       8   \\\n",
       "0  17.99  10.38  122.80  1001.0  0.11840  0.27760  0.3001  0.14710  0.2419   \n",
       "1  20.57  17.77  132.90  1326.0  0.08474  0.07864  0.0869  0.07017  0.1812   \n",
       "2  19.69  21.25  130.00  1203.0  0.10960  0.15990  0.1974  0.12790  0.2069   \n",
       "3  11.42  20.38   77.58   386.1  0.14250  0.28390  0.2414  0.10520  0.2597   \n",
       "4  20.29  14.34  135.10  1297.0  0.10030  0.13280  0.1980  0.10430  0.1809   \n",
       "\n",
       "        9   ...     20     21      22      23      24      25      26      27  \\\n",
       "0  0.07871  ...  25.38  17.33  184.60  2019.0  0.1622  0.6656  0.7119  0.2654   \n",
       "1  0.05667  ...  24.99  23.41  158.80  1956.0  0.1238  0.1866  0.2416  0.1860   \n",
       "2  0.05999  ...  23.57  25.53  152.50  1709.0  0.1444  0.4245  0.4504  0.2430   \n",
       "3  0.09744  ...  14.91  26.50   98.87   567.7  0.2098  0.8663  0.6869  0.2575   \n",
       "4  0.05883  ...  22.54  16.67  152.20  1575.0  0.1374  0.2050  0.4000  0.1625   \n",
       "\n",
       "       28       29  \n",
       "0  0.4601  0.11890  \n",
       "1  0.2750  0.08902  \n",
       "2  0.3613  0.08758  \n",
       "3  0.6638  0.17300  \n",
       "4  0.2364  0.07678  \n",
       "\n",
       "[5 rows x 30 columns]"
      ]
     },
     "execution_count": 3,
     "metadata": {},
     "output_type": "execute_result"
    }
   ],
   "source": [
    "X=data.data\n",
    "X=pd.DataFrame(X)\n",
    "X.head()"
   ]
  },
  {
   "cell_type": "code",
   "execution_count": 4,
   "id": "0df63d43",
   "metadata": {
    "execution": {
     "iopub.execute_input": "2023-05-10T20:52:43.945264Z",
     "iopub.status.busy": "2023-05-10T20:52:43.944605Z",
     "iopub.status.idle": "2023-05-10T20:52:43.956136Z",
     "shell.execute_reply": "2023-05-10T20:52:43.954916Z",
     "shell.execute_reply.started": "2023-05-10T20:52:43.945227Z"
    }
   },
   "outputs": [
    {
     "data": {
      "text/html": [
       "<div>\n",
       "<style scoped>\n",
       "    .dataframe tbody tr th:only-of-type {\n",
       "        vertical-align: middle;\n",
       "    }\n",
       "\n",
       "    .dataframe tbody tr th {\n",
       "        vertical-align: top;\n",
       "    }\n",
       "\n",
       "    .dataframe thead th {\n",
       "        text-align: right;\n",
       "    }\n",
       "</style>\n",
       "<table border=\"1\" class=\"dataframe\">\n",
       "  <thead>\n",
       "    <tr style=\"text-align: right;\">\n",
       "      <th></th>\n",
       "      <th>0</th>\n",
       "    </tr>\n",
       "  </thead>\n",
       "  <tbody>\n",
       "    <tr>\n",
       "      <th>0</th>\n",
       "      <td>0</td>\n",
       "    </tr>\n",
       "    <tr>\n",
       "      <th>1</th>\n",
       "      <td>0</td>\n",
       "    </tr>\n",
       "    <tr>\n",
       "      <th>2</th>\n",
       "      <td>0</td>\n",
       "    </tr>\n",
       "    <tr>\n",
       "      <th>3</th>\n",
       "      <td>0</td>\n",
       "    </tr>\n",
       "    <tr>\n",
       "      <th>4</th>\n",
       "      <td>0</td>\n",
       "    </tr>\n",
       "    <tr>\n",
       "      <th>...</th>\n",
       "      <td>...</td>\n",
       "    </tr>\n",
       "    <tr>\n",
       "      <th>564</th>\n",
       "      <td>0</td>\n",
       "    </tr>\n",
       "    <tr>\n",
       "      <th>565</th>\n",
       "      <td>0</td>\n",
       "    </tr>\n",
       "    <tr>\n",
       "      <th>566</th>\n",
       "      <td>0</td>\n",
       "    </tr>\n",
       "    <tr>\n",
       "      <th>567</th>\n",
       "      <td>0</td>\n",
       "    </tr>\n",
       "    <tr>\n",
       "      <th>568</th>\n",
       "      <td>1</td>\n",
       "    </tr>\n",
       "  </tbody>\n",
       "</table>\n",
       "<p>569 rows × 1 columns</p>\n",
       "</div>"
      ],
      "text/plain": [
       "     0\n",
       "0    0\n",
       "1    0\n",
       "2    0\n",
       "3    0\n",
       "4    0\n",
       "..  ..\n",
       "564  0\n",
       "565  0\n",
       "566  0\n",
       "567  0\n",
       "568  1\n",
       "\n",
       "[569 rows x 1 columns]"
      ]
     },
     "execution_count": 4,
     "metadata": {},
     "output_type": "execute_result"
    }
   ],
   "source": [
    "y=data.target\n",
    "y=pd.DataFrame(y)\n",
    "y"
   ]
  },
  {
   "cell_type": "code",
   "execution_count": 5,
   "id": "475836a9",
   "metadata": {
    "execution": {
     "iopub.execute_input": "2023-05-10T20:52:43.958521Z",
     "iopub.status.busy": "2023-05-10T20:52:43.958062Z",
     "iopub.status.idle": "2023-05-10T20:52:43.970931Z",
     "shell.execute_reply": "2023-05-10T20:52:43.969888Z",
     "shell.execute_reply.started": "2023-05-10T20:52:43.958414Z"
    }
   },
   "outputs": [
    {
     "name": "stdout",
     "output_type": "stream",
     "text": [
      "X train shape: (455, 30)\n",
      "X val shape: (114, 30)\n",
      "y train shape: (455,)\n",
      "y val shape: (114,)\n"
     ]
    }
   ],
   "source": [
    "X_train, X_val, y_train, y_val = train_test_split(X, y[0], test_size=0.2)\n",
    "print('X train shape:',X_train.shape)\n",
    "print('X val shape:',X_val.shape)\n",
    "print('y train shape:',y_train.shape)\n",
    "print('y val shape:',y_val.shape)"
   ]
  },
  {
   "cell_type": "code",
   "execution_count": 6,
   "id": "6f46db55",
   "metadata": {
    "execution": {
     "iopub.execute_input": "2023-05-10T20:52:43.974088Z",
     "iopub.status.busy": "2023-05-10T20:52:43.973804Z",
     "iopub.status.idle": "2023-05-10T20:52:43.985546Z",
     "shell.execute_reply": "2023-05-10T20:52:43.984408Z",
     "shell.execute_reply.started": "2023-05-10T20:52:43.974063Z"
    }
   },
   "outputs": [],
   "source": [
    "def objective_function(params):\n",
    "    fx = []\n",
    "    if len(params)>2:\n",
    "        for i in range (len(params)):\n",
    "            c = params[i,0]\n",
    "            gamma = params[i,1]\n",
    "            model = SVC(C=c, gamma=gamma, kernel='rbf')\n",
    "            model.fit(X_train, y_train)\n",
    "            y_pred = model.predict(X_val)\n",
    "            fx.append(accuracy_score(y_val, y_pred))\n",
    "        return fx\n",
    "    else:\n",
    "        model = SVC(C=params[0], gamma=params[1], kernel='rbf')\n",
    "        model.fit(X_train, y_train)\n",
    "        y_pred = model.predict(X_val)\n",
    "        fx.append(accuracy_score(y_val, y_pred))\n",
    "        return y_pred,fx"
   ]
  },
  {
   "cell_type": "code",
   "execution_count": 7,
   "id": "0a396b17",
   "metadata": {
    "execution": {
     "iopub.execute_input": "2023-05-10T20:52:43.987657Z",
     "iopub.status.busy": "2023-05-10T20:52:43.987306Z",
     "iopub.status.idle": "2023-05-10T20:52:44.002602Z",
     "shell.execute_reply": "2023-05-10T20:52:44.001575Z",
     "shell.execute_reply.started": "2023-05-10T20:52:43.987625Z"
    }
   },
   "outputs": [],
   "source": [
    "bounds_parameters = [(0.1, 10.0), (0.0001, 1.0)]"
   ]
  },
  {
   "cell_type": "code",
   "execution_count": 8,
   "id": "9a4b5c35",
   "metadata": {
    "execution": {
     "iopub.execute_input": "2023-05-10T20:52:44.004710Z",
     "iopub.status.busy": "2023-05-10T20:52:44.004356Z",
     "iopub.status.idle": "2023-05-10T20:52:44.013857Z",
     "shell.execute_reply": "2023-05-10T20:52:44.012930Z",
     "shell.execute_reply.started": "2023-05-10T20:52:44.004679Z"
    }
   },
   "outputs": [],
   "source": [
    "w = 0.9\n",
    "c1 =c2= 1.5\n",
    "max_opt_iter=200\n",
    "D=2\n",
    "size=20"
   ]
  },
  {
   "cell_type": "code",
   "execution_count": 9,
   "id": "9983a640",
   "metadata": {
    "execution": {
     "iopub.execute_input": "2023-05-10T20:52:44.015157Z",
     "iopub.status.busy": "2023-05-10T20:52:44.014859Z",
     "iopub.status.idle": "2023-05-10T20:52:44.033179Z",
     "shell.execute_reply": "2023-05-10T20:52:44.032133Z",
     "shell.execute_reply.started": "2023-05-10T20:52:44.015133Z"
    }
   },
   "outputs": [
    {
     "data": {
      "text/plain": [
       "array([[2.39849806e+00, 6.86207159e-01],\n",
       "       [6.92579843e+00, 3.31603455e-01],\n",
       "       [2.10206579e+00, 7.52781560e-01],\n",
       "       [1.24801147e+00, 2.06154519e-01],\n",
       "       [6.17968053e+00, 6.22933485e-01],\n",
       "       [5.09199637e+00, 6.46335754e-01],\n",
       "       [2.41716452e+00, 9.02361826e-01],\n",
       "       [6.67722445e+00, 5.17038717e-01],\n",
       "       [3.93601275e+00, 9.24148580e-01],\n",
       "       [8.76239718e+00, 8.89499876e-01],\n",
       "       [3.92329940e+00, 4.53930075e-01],\n",
       "       [2.13024730e+00, 3.08537959e-01],\n",
       "       [2.60293305e+00, 4.90032718e-03],\n",
       "       [7.34364673e+00, 5.75694837e-01],\n",
       "       [1.70867453e+00, 5.49399984e-01],\n",
       "       [5.82141434e-01, 7.23927573e-01],\n",
       "       [7.09019340e+00, 1.67788061e-01],\n",
       "       [4.69432112e+00, 5.48133911e-02],\n",
       "       [5.15409677e+00, 8.57053496e-01],\n",
       "       [4.18375369e+00, 6.58351845e-01]])"
      ]
     },
     "execution_count": 9,
     "metadata": {},
     "output_type": "execute_result"
    }
   ],
   "source": [
    "x=np.zeros((size,D))\n",
    "for i in range(size):\n",
    "    for c in range(D):\n",
    "        if c==0:\n",
    "            m=bounds_parameters[0][0]+random.random()*(bounds_parameters[0][1]-bounds_parameters[0][0])\n",
    "            if m>bounds_parameters[0][1]:\n",
    "                x[i,c]=bounds_parameters[0][1]\n",
    "            elif m<bounds_parameters[0][0]:\n",
    "                x[i,c]=bounds_parameters[0][0]\n",
    "            else:\n",
    "                x[i,c]=m\n",
    "        else:\n",
    "            m=bounds_parameters[1][0]+random.random()*(bounds_parameters[1][1]-bounds_parameters[1][0])\n",
    "            if m>bounds_parameters[1][1]:\n",
    "                x[i,c]=bounds_parameters[1][1]\n",
    "            elif m<bounds_parameters[1][0]:\n",
    "                x[i,c]=bounds_parameters[1][0]\n",
    "            else:\n",
    "                x[i,c]=m \n",
    "x"
   ]
  },
  {
   "cell_type": "code",
   "execution_count": 10,
   "id": "5011eea5",
   "metadata": {
    "execution": {
     "iopub.execute_input": "2023-05-10T20:52:44.035525Z",
     "iopub.status.busy": "2023-05-10T20:52:44.034826Z",
     "iopub.status.idle": "2023-05-10T20:52:44.046696Z",
     "shell.execute_reply": "2023-05-10T20:52:44.045798Z",
     "shell.execute_reply.started": "2023-05-10T20:52:44.035489Z"
    }
   },
   "outputs": [
    {
     "data": {
      "text/plain": [
       "array([[0.95341368, 0.34301759],\n",
       "       [0.09850029, 0.05496607],\n",
       "       [0.00761977, 0.09610122],\n",
       "       [0.14890519, 0.86996348],\n",
       "       [0.79533998, 0.57616393],\n",
       "       [0.17244138, 0.37634674],\n",
       "       [0.21372941, 0.42365826],\n",
       "       [0.08515269, 0.75362974],\n",
       "       [0.4390796 , 0.62242448],\n",
       "       [0.32872751, 0.36691125],\n",
       "       [0.10800702, 0.99069175],\n",
       "       [0.31704588, 0.52928293],\n",
       "       [0.06889823, 0.88913901],\n",
       "       [0.05838639, 0.50014165],\n",
       "       [0.79600514, 0.89976241],\n",
       "       [0.92282435, 0.27572346],\n",
       "       [0.25989668, 0.50722131],\n",
       "       [0.11834402, 0.52771704],\n",
       "       [0.80343197, 0.20086374],\n",
       "       [0.41246363, 0.68424629]])"
      ]
     },
     "execution_count": 10,
     "metadata": {},
     "output_type": "execute_result"
    }
   ],
   "source": [
    "v=np.zeros((size,D))\n",
    "for i in range(size):\n",
    "    for c in range(D):\n",
    "        v[i,c]=random.random()\n",
    "v"
   ]
  },
  {
   "cell_type": "code",
   "execution_count": 11,
   "id": "4d5be861",
   "metadata": {
    "execution": {
     "iopub.execute_input": "2023-05-10T20:52:44.049268Z",
     "iopub.status.busy": "2023-05-10T20:52:44.048441Z",
     "iopub.status.idle": "2023-05-10T20:52:44.519025Z",
     "shell.execute_reply": "2023-05-10T20:52:44.518106Z",
     "shell.execute_reply.started": "2023-05-10T20:52:44.049207Z"
    }
   },
   "outputs": [
    {
     "data": {
      "text/plain": [
       "[0.6403508771929824,\n",
       " 0.6403508771929824,\n",
       " 0.6403508771929824,\n",
       " 0.6403508771929824,\n",
       " 0.6403508771929824,\n",
       " 0.6403508771929824,\n",
       " 0.6403508771929824,\n",
       " 0.6403508771929824,\n",
       " 0.6403508771929824,\n",
       " 0.6403508771929824,\n",
       " 0.6403508771929824,\n",
       " 0.6403508771929824,\n",
       " 0.9210526315789473,\n",
       " 0.6403508771929824,\n",
       " 0.6403508771929824,\n",
       " 0.6403508771929824,\n",
       " 0.6403508771929824,\n",
       " 0.6403508771929824,\n",
       " 0.6403508771929824,\n",
       " 0.6403508771929824]"
      ]
     },
     "execution_count": 11,
     "metadata": {},
     "output_type": "execute_result"
    }
   ],
   "source": [
    "fx=objective_function(x)\n",
    "fx"
   ]
  },
  {
   "cell_type": "code",
   "execution_count": 12,
   "id": "d38483c0",
   "metadata": {
    "execution": {
     "iopub.execute_input": "2023-05-10T20:52:44.521264Z",
     "iopub.status.busy": "2023-05-10T20:52:44.520579Z",
     "iopub.status.idle": "2023-05-10T20:52:44.529579Z",
     "shell.execute_reply": "2023-05-10T20:52:44.528284Z",
     "shell.execute_reply.started": "2023-05-10T20:52:44.521223Z"
    }
   },
   "outputs": [
    {
     "data": {
      "text/plain": [
       "array([[2.39849806e+00, 6.86207159e-01],\n",
       "       [6.92579843e+00, 3.31603455e-01],\n",
       "       [2.10206579e+00, 7.52781560e-01],\n",
       "       [1.24801147e+00, 2.06154519e-01],\n",
       "       [6.17968053e+00, 6.22933485e-01],\n",
       "       [5.09199637e+00, 6.46335754e-01],\n",
       "       [2.41716452e+00, 9.02361826e-01],\n",
       "       [6.67722445e+00, 5.17038717e-01],\n",
       "       [3.93601275e+00, 9.24148580e-01],\n",
       "       [8.76239718e+00, 8.89499876e-01],\n",
       "       [3.92329940e+00, 4.53930075e-01],\n",
       "       [2.13024730e+00, 3.08537959e-01],\n",
       "       [2.60293305e+00, 4.90032718e-03],\n",
       "       [7.34364673e+00, 5.75694837e-01],\n",
       "       [1.70867453e+00, 5.49399984e-01],\n",
       "       [5.82141434e-01, 7.23927573e-01],\n",
       "       [7.09019340e+00, 1.67788061e-01],\n",
       "       [4.69432112e+00, 5.48133911e-02],\n",
       "       [5.15409677e+00, 8.57053496e-01],\n",
       "       [4.18375369e+00, 6.58351845e-01]])"
      ]
     },
     "execution_count": 12,
     "metadata": {},
     "output_type": "execute_result"
    }
   ],
   "source": [
    "pbest=x\n",
    "pbest"
   ]
  },
  {
   "cell_type": "code",
   "execution_count": 13,
   "id": "267f9259",
   "metadata": {
    "execution": {
     "iopub.execute_input": "2023-05-10T20:52:44.531990Z",
     "iopub.status.busy": "2023-05-10T20:52:44.531575Z",
     "iopub.status.idle": "2023-05-10T20:52:44.542311Z",
     "shell.execute_reply": "2023-05-10T20:52:44.540144Z",
     "shell.execute_reply.started": "2023-05-10T20:52:44.531950Z"
    }
   },
   "outputs": [
    {
     "data": {
      "text/plain": [
       "0.9210526315789473"
      ]
     },
     "execution_count": 13,
     "metadata": {},
     "output_type": "execute_result"
    }
   ],
   "source": [
    "index=np.argmax(fx)\n",
    "gbest_value=fx[index]\n",
    "gbest=x[index]\n",
    "gbest_value"
   ]
  },
  {
   "cell_type": "code",
   "execution_count": 14,
   "id": "aa075a69",
   "metadata": {
    "execution": {
     "iopub.execute_input": "2023-05-10T20:52:44.544996Z",
     "iopub.status.busy": "2023-05-10T20:52:44.543942Z",
     "iopub.status.idle": "2023-05-10T20:52:44.553659Z",
     "shell.execute_reply": "2023-05-10T20:52:44.552432Z",
     "shell.execute_reply.started": "2023-05-10T20:52:44.544959Z"
    }
   },
   "outputs": [
    {
     "data": {
      "text/plain": [
       "array([2.60293305, 0.00490033])"
      ]
     },
     "execution_count": 14,
     "metadata": {},
     "output_type": "execute_result"
    }
   ],
   "source": [
    "gbest"
   ]
  },
  {
   "cell_type": "code",
   "execution_count": 15,
   "id": "e5fe17e7",
   "metadata": {
    "execution": {
     "iopub.execute_input": "2023-05-10T20:52:44.556130Z",
     "iopub.status.busy": "2023-05-10T20:52:44.555497Z",
     "iopub.status.idle": "2023-05-10T20:52:45.436329Z",
     "shell.execute_reply": "2023-05-10T20:52:45.435233Z",
     "shell.execute_reply.started": "2023-05-10T20:52:44.556094Z"
    }
   },
   "outputs": [
    {
     "name": "stdout",
     "output_type": "stream",
     "text": [
      "iteration # 1\n",
      "v \n",
      " [[ 1.08050376  0.11720928]\n",
      " [-0.39845357 -0.12188945]\n",
      " [ 0.7155762  -0.91299754]\n",
      " [ 0.48289132  0.60800144]\n",
      " [-1.24417154  0.27176661]\n",
      " [-0.27582875  0.29944244]\n",
      " [ 0.35688637  0.13015457]\n",
      " [-5.94275453  0.33771802]\n",
      " [-1.6009192  -0.24078294]\n",
      " [-1.09842203 -0.00994658]\n",
      " [-1.79031504  0.40557211]\n",
      " [ 0.63893536  0.15143247]\n",
      " [ 0.06200841  0.80022511]\n",
      " [-1.80415207  0.57004913]\n",
      " [ 0.87565553  0.9138872 ]\n",
      " [ 3.40914307  0.33438649]\n",
      " [-1.51170561  0.75982628]\n",
      " [-2.71584555  0.86334993]\n",
      " [-1.76016153  0.11650714]\n",
      " [-1.5919018   0.80746997]]\n",
      "x \n",
      " [[3.47900182e+00 8.03416442e-01]\n",
      " [6.52734486e+00 2.09714003e-01]\n",
      " [2.81764199e+00 1.00000000e-04]\n",
      " [1.73090278e+00 8.14155959e-01]\n",
      " [4.93550899e+00 8.94700093e-01]\n",
      " [4.81616762e+00 9.45778194e-01]\n",
      " [2.77405089e+00 1.00000000e+00]\n",
      " [7.34469919e-01 8.54756739e-01]\n",
      " [2.33509355e+00 6.83365636e-01]\n",
      " [7.66397516e+00 8.79553293e-01]\n",
      " [2.13298436e+00 8.59502189e-01]\n",
      " [2.76918267e+00 4.59970434e-01]\n",
      " [2.66494146e+00 8.05125439e-01]\n",
      " [5.53949466e+00 1.00000000e+00]\n",
      " [2.58433006e+00 1.00000000e+00]\n",
      " [3.99128450e+00 1.00000000e+00]\n",
      " [5.57848779e+00 9.27614343e-01]\n",
      " [1.97847557e+00 9.18163323e-01]\n",
      " [3.39393525e+00 9.73560641e-01]\n",
      " [2.59185188e+00 1.00000000e+00]]\n",
      "gbest =  0.9385964912280702\n",
      "gb \n",
      "  [2.81764199e+00 1.00000000e-04]\n",
      "prv value is: 0.9385964912280702  current value is: 0.9385964912280702\n"
     ]
    }
   ],
   "source": [
    "error=.000001\n",
    "f=fx.copy()\n",
    "for i in range(1,max_opt_iter):\n",
    "    g=gbest_value.copy()\n",
    "    for c in range(size):\n",
    "        for j in range(D):\n",
    "            r1=random.random()\n",
    "            r2=random.random()\n",
    "            v[c,j]=w*v[c,j]+c1*r1*(pbest[c,j]-x[c,j])+c2*r2*(gbest[j]-x[c,j])\n",
    "            m=v[c,j]+x[c,j]\n",
    "            if j==0:\n",
    "                if m>bounds_parameters[0][1]:\n",
    "                    x[c,j]=bounds_parameters[0][1]\n",
    "                elif m<bounds_parameters[0][0]:\n",
    "                    x[c,j]=bounds_parameters[0][0]\n",
    "                else:\n",
    "                    x[c,j]=m\n",
    "            if j==1:\n",
    "                if m>bounds_parameters[1][1]:\n",
    "                    x[c,j]=bounds_parameters[1][1]\n",
    "                elif m<bounds_parameters[1][0]:\n",
    "                    x[c,j]=bounds_parameters[1][0]\n",
    "                else:\n",
    "                    x[c,j]=m        \n",
    "                    \n",
    "    fx=objective_function(x)\n",
    "    for o in range(size):\n",
    "        if f[o]<fx[o]:\n",
    "            f[o]=fx[o]\n",
    "            pbest[o,:]=x[o,:]\n",
    "    index=np.argmax(fx)\n",
    "    if fx[index]==g or abs(fx[index]-g) ==error:\n",
    "        print('prv value is:',fx[index],' current value is:',g)\n",
    "        break\n",
    "    elif fx[index] <g:\n",
    "        continue\n",
    "    gbest_value=fx[index]    \n",
    "    gbest=x[index]\n",
    "    print('iteration #',i)\n",
    "    print('v \\n',v)\n",
    "    print('x \\n',x)\n",
    "    print('gbest = ',gbest_value)\n",
    "    print('gb \\n ',gbest)"
   ]
  },
  {
   "cell_type": "code",
   "execution_count": 16,
   "id": "4ce4a16c",
   "metadata": {
    "execution": {
     "iopub.execute_input": "2023-05-10T20:52:45.438650Z",
     "iopub.status.busy": "2023-05-10T20:52:45.437955Z",
     "iopub.status.idle": "2023-05-10T20:52:45.445975Z",
     "shell.execute_reply": "2023-05-10T20:52:45.444643Z",
     "shell.execute_reply.started": "2023-05-10T20:52:45.438610Z"
    }
   },
   "outputs": [
    {
     "data": {
      "text/plain": [
       "0.9385964912280702"
      ]
     },
     "execution_count": 16,
     "metadata": {},
     "output_type": "execute_result"
    }
   ],
   "source": [
    "gbest_value"
   ]
  },
  {
   "cell_type": "code",
   "execution_count": 17,
   "id": "b9e3f821",
   "metadata": {
    "execution": {
     "iopub.execute_input": "2023-05-10T20:52:45.448390Z",
     "iopub.status.busy": "2023-05-10T20:52:45.447683Z",
     "iopub.status.idle": "2023-05-10T20:52:45.458251Z",
     "shell.execute_reply": "2023-05-10T20:52:45.457123Z",
     "shell.execute_reply.started": "2023-05-10T20:52:45.448354Z"
    }
   },
   "outputs": [
    {
     "data": {
      "text/plain": [
       "array([3.46166058e+00, 1.00000000e-04])"
      ]
     },
     "execution_count": 17,
     "metadata": {},
     "output_type": "execute_result"
    }
   ],
   "source": [
    "gbest"
   ]
  },
  {
   "cell_type": "code",
   "execution_count": 18,
   "id": "728f746e",
   "metadata": {
    "execution": {
     "iopub.execute_input": "2023-05-10T20:52:45.460407Z",
     "iopub.status.busy": "2023-05-10T20:52:45.459952Z",
     "iopub.status.idle": "2023-05-10T20:52:45.471982Z",
     "shell.execute_reply": "2023-05-10T20:52:45.470936Z",
     "shell.execute_reply.started": "2023-05-10T20:52:45.460371Z"
    }
   },
   "outputs": [
    {
     "data": {
      "text/plain": [
       "array([[4.43675073e+00, 3.39867453e-01],\n",
       "       [3.92264995e+00, 1.00000000e-04],\n",
       "       [3.46166058e+00, 1.00000000e-04],\n",
       "       [3.14398295e+00, 4.49833933e-01],\n",
       "       [1.98022063e+00, 2.76398298e-01],\n",
       "       [4.38553172e+00, 1.00000000e+00],\n",
       "       [3.61417447e+00, 8.43319484e-01],\n",
       "       [1.00000000e-01, 1.71334736e-01],\n",
       "       [2.41358068e+00, 1.00000000e-04],\n",
       "       [4.30840187e+00, 2.06026885e-01],\n",
       "       [1.29696904e+00, 6.52258122e-01],\n",
       "       [4.13557119e+00, 2.67958001e-01],\n",
       "       [3.70311217e+00, 8.75148047e-01],\n",
       "       [9.61441471e-01, 2.46596423e-01],\n",
       "       [4.62755252e+00, 7.09367679e-01],\n",
       "       [6.33594970e+00, 5.22269469e-02],\n",
       "       [2.75671384e+00, 1.00000000e+00],\n",
       "       [6.27456773e-01, 7.25856836e-01],\n",
       "       [1.84499899e+00, 9.97918574e-02],\n",
       "       [1.41629110e+00, 6.25729310e-01]])"
      ]
     },
     "execution_count": 18,
     "metadata": {},
     "output_type": "execute_result"
    }
   ],
   "source": [
    "pbest"
   ]
  },
  {
   "cell_type": "code",
   "execution_count": 19,
   "id": "2e59cf5e",
   "metadata": {
    "execution": {
     "iopub.execute_input": "2023-05-10T20:52:45.473982Z",
     "iopub.status.busy": "2023-05-10T20:52:45.473577Z",
     "iopub.status.idle": "2023-05-10T20:52:45.494861Z",
     "shell.execute_reply": "2023-05-10T20:52:45.493891Z",
     "shell.execute_reply.started": "2023-05-10T20:52:45.473951Z"
    }
   },
   "outputs": [
    {
     "name": "stdout",
     "output_type": "stream",
     "text": [
      "[0.9385964912280702]\n"
     ]
    }
   ],
   "source": [
    "y_pred,value=objective_function(gbest)\n",
    "print(value)"
   ]
  },
  {
   "cell_type": "code",
   "execution_count": 20,
   "id": "ef2e29da",
   "metadata": {},
   "outputs": [
    {
     "data": {
      "text/plain": [
       "array([[36,  5],\n",
       "       [ 2, 71]], dtype=int64)"
      ]
     },
     "execution_count": 20,
     "metadata": {},
     "output_type": "execute_result"
    },
    {
     "data": {
      "image/png": "[encoded data removed]",
      "text/plain": [
       "<Figure size 640x480 with 1 Axes>"
      ]
     },
     "metadata": {},
     "output_type": "display_data"
    }
   ],
   "source": [
    "CM = confusion_matrix(y_val, y_pred)\n",
    "sns.heatmap(CM, annot=True, fmt='g',cbar=False,cmap='RdBu')\n",
    "CM"
   ]
  }
 ],
 "metadata": {
  "kernelspec": {
   "display_name": "Python 3 (ipykernel)",
   "language": "python",
   "name": "python3"
  },
  "language_info": {
   "codemirror_mode": {
    "name": "ipython",
    "version": 3
   },
   "file_extension": ".py",
   "mimetype": "text/x-python",
   "name": "python",
   "nbconvert_exporter": "python",
   "pygments_lexer": "ipython3",
   "version": "3.9.13"
  }
 },
 "nbformat": 4,
 "nbformat_minor": 5
}
