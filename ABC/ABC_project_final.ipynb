{
 "cells": [
  {
   "cell_type": "code",
   "execution_count": 1,
   "id": "2adb790c",
   "metadata": {},
   "outputs": [],
   "source": [
    "from sklearn.datasets import load_breast_cancer\n",
    "from sklearn.model_selection import train_test_split\n",
    "from sklearn.svm import SVC\n",
    "from sklearn.metrics import accuracy_score\n",
    "import numpy as np\n",
    "import pandas as pd\n",
    "import random\n",
    "from sklearn.metrics import confusion_matrix\n",
    "import seaborn as sns\n",
    "import matplotlib.pyplot as plt"
   ]
  },
  {
   "cell_type": "code",
   "execution_count": 2,
   "id": "99217c5f",
   "metadata": {},
   "outputs": [],
   "source": [
    "data = load_breast_cancer()"
   ]
  },
  {
   "cell_type": "code",
   "execution_count": 3,
   "id": "61ac02ce",
   "metadata": {},
   "outputs": [
    {
     "data": {
      "text/html": [
       "<div>\n",
       "<style scoped>\n",
       "    .dataframe tbody tr th:only-of-type {\n",
       "        vertical-align: middle;\n",
       "    }\n",
       "\n",
       "    .dataframe tbody tr th {\n",
       "        vertical-align: top;\n",
       "    }\n",
       "\n",
       "    .dataframe thead th {\n",
       "        text-align: right;\n",
       "    }\n",
       "</style>\n",
       "<table border=\"1\" class=\"dataframe\">\n",
       "  <thead>\n",
       "    <tr style=\"text-align: right;\">\n",
       "      <th></th>\n",
       "      <th>0</th>\n",
       "      <th>1</th>\n",
       "      <th>2</th>\n",
       "      <th>3</th>\n",
       "      <th>4</th>\n",
       "      <th>5</th>\n",
       "      <th>6</th>\n",
       "      <th>7</th>\n",
       "      <th>8</th>\n",
       "      <th>9</th>\n",
       "      <th>...</th>\n",
       "      <th>20</th>\n",
       "      <th>21</th>\n",
       "      <th>22</th>\n",
       "      <th>23</th>\n",
       "      <th>24</th>\n",
       "      <th>25</th>\n",
       "      <th>26</th>\n",
       "      <th>27</th>\n",
       "      <th>28</th>\n",
       "      <th>29</th>\n",
       "    </tr>\n",
       "  </thead>\n",
       "  <tbody>\n",
       "    <tr>\n",
       "      <th>0</th>\n",
       "      <td>17.99</td>\n",
       "      <td>10.38</td>\n",
       "      <td>122.80</td>\n",
       "      <td>1001.0</td>\n",
       "      <td>0.11840</td>\n",
       "      <td>0.27760</td>\n",
       "      <td>0.3001</td>\n",
       "      <td>0.14710</td>\n",
       "      <td>0.2419</td>\n",
       "      <td>0.07871</td>\n",
       "      <td>...</td>\n",
       "      <td>25.38</td>\n",
       "      <td>17.33</td>\n",
       "      <td>184.60</td>\n",
       "      <td>2019.0</td>\n",
       "      <td>0.1622</td>\n",
       "      <td>0.6656</td>\n",
       "      <td>0.7119</td>\n",
       "      <td>0.2654</td>\n",
       "      <td>0.4601</td>\n",
       "      <td>0.11890</td>\n",
       "    </tr>\n",
       "    <tr>\n",
       "      <th>1</th>\n",
       "      <td>20.57</td>\n",
       "      <td>17.77</td>\n",
       "      <td>132.90</td>\n",
       "      <td>1326.0</td>\n",
       "      <td>0.08474</td>\n",
       "      <td>0.07864</td>\n",
       "      <td>0.0869</td>\n",
       "      <td>0.07017</td>\n",
       "      <td>0.1812</td>\n",
       "      <td>0.05667</td>\n",
       "      <td>...</td>\n",
       "      <td>24.99</td>\n",
       "      <td>23.41</td>\n",
       "      <td>158.80</td>\n",
       "      <td>1956.0</td>\n",
       "      <td>0.1238</td>\n",
       "      <td>0.1866</td>\n",
       "      <td>0.2416</td>\n",
       "      <td>0.1860</td>\n",
       "      <td>0.2750</td>\n",
       "      <td>0.08902</td>\n",
       "    </tr>\n",
       "    <tr>\n",
       "      <th>2</th>\n",
       "      <td>19.69</td>\n",
       "      <td>21.25</td>\n",
       "      <td>130.00</td>\n",
       "      <td>1203.0</td>\n",
       "      <td>0.10960</td>\n",
       "      <td>0.15990</td>\n",
       "      <td>0.1974</td>\n",
       "      <td>0.12790</td>\n",
       "      <td>0.2069</td>\n",
       "      <td>0.05999</td>\n",
       "      <td>...</td>\n",
       "      <td>23.57</td>\n",
       "      <td>25.53</td>\n",
       "      <td>152.50</td>\n",
       "      <td>1709.0</td>\n",
       "      <td>0.1444</td>\n",
       "      <td>0.4245</td>\n",
       "      <td>0.4504</td>\n",
       "      <td>0.2430</td>\n",
       "      <td>0.3613</td>\n",
       "      <td>0.08758</td>\n",
       "    </tr>\n",
       "    <tr>\n",
       "      <th>3</th>\n",
       "      <td>11.42</td>\n",
       "      <td>20.38</td>\n",
       "      <td>77.58</td>\n",
       "      <td>386.1</td>\n",
       "      <td>0.14250</td>\n",
       "      <td>0.28390</td>\n",
       "      <td>0.2414</td>\n",
       "      <td>0.10520</td>\n",
       "      <td>0.2597</td>\n",
       "      <td>0.09744</td>\n",
       "      <td>...</td>\n",
       "      <td>14.91</td>\n",
       "      <td>26.50</td>\n",
       "      <td>98.87</td>\n",
       "      <td>567.7</td>\n",
       "      <td>0.2098</td>\n",
       "      <td>0.8663</td>\n",
       "      <td>0.6869</td>\n",
       "      <td>0.2575</td>\n",
       "      <td>0.6638</td>\n",
       "      <td>0.17300</td>\n",
       "    </tr>\n",
       "    <tr>\n",
       "      <th>4</th>\n",
       "      <td>20.29</td>\n",
       "      <td>14.34</td>\n",
       "      <td>135.10</td>\n",
       "      <td>1297.0</td>\n",
       "      <td>0.10030</td>\n",
       "      <td>0.13280</td>\n",
       "      <td>0.1980</td>\n",
       "      <td>0.10430</td>\n",
       "      <td>0.1809</td>\n",
       "      <td>0.05883</td>\n",
       "      <td>...</td>\n",
       "      <td>22.54</td>\n",
       "      <td>16.67</td>\n",
       "      <td>152.20</td>\n",
       "      <td>1575.0</td>\n",
       "      <td>0.1374</td>\n",
       "      <td>0.2050</td>\n",
       "      <td>0.4000</td>\n",
       "      <td>0.1625</td>\n",
       "      <td>0.2364</td>\n",
       "      <td>0.07678</td>\n",
       "    </tr>\n",
       "  </tbody>\n",
       "</table>\n",
       "<p>5 rows × 30 columns</p>\n",
       "</div>"
      ],
      "text/plain": [
       "      0      1       2       3        4        5       6        7       8   \\\n",
       "0  17.99  10.38  122.80  1001.0  0.11840  0.27760  0.3001  0.14710  0.2419   \n",
       "1  20.57  17.77  132.90  1326.0  0.08474  0.07864  0.0869  0.07017  0.1812   \n",
       "2  19.69  21.25  130.00  1203.0  0.10960  0.15990  0.1974  0.12790  0.2069   \n",
       "3  11.42  20.38   77.58   386.1  0.14250  0.28390  0.2414  0.10520  0.2597   \n",
       "4  20.29  14.34  135.10  1297.0  0.10030  0.13280  0.1980  0.10430  0.1809   \n",
       "\n",
       "        9   ...     20     21      22      23      24      25      26      27  \\\n",
       "0  0.07871  ...  25.38  17.33  184.60  2019.0  0.1622  0.6656  0.7119  0.2654   \n",
       "1  0.05667  ...  24.99  23.41  158.80  1956.0  0.1238  0.1866  0.2416  0.1860   \n",
       "2  0.05999  ...  23.57  25.53  152.50  1709.0  0.1444  0.4245  0.4504  0.2430   \n",
       "3  0.09744  ...  14.91  26.50   98.87   567.7  0.2098  0.8663  0.6869  0.2575   \n",
       "4  0.05883  ...  22.54  16.67  152.20  1575.0  0.1374  0.2050  0.4000  0.1625   \n",
       "\n",
       "       28       29  \n",
       "0  0.4601  0.11890  \n",
       "1  0.2750  0.08902  \n",
       "2  0.3613  0.08758  \n",
       "3  0.6638  0.17300  \n",
       "4  0.2364  0.07678  \n",
       "\n",
       "[5 rows x 30 columns]"
      ]
     },
     "execution_count": 3,
     "metadata": {},
     "output_type": "execute_result"
    }
   ],
   "source": [
    "X=data.data\n",
    "X=pd.DataFrame(X)\n",
    "X.head()"
   ]
  },
  {
   "cell_type": "code",
   "execution_count": 4,
   "id": "5a9a345d",
   "metadata": {},
   "outputs": [
    {
     "data": {
      "text/html": [
       "<div>\n",
       "<style scoped>\n",
       "    .dataframe tbody tr th:only-of-type {\n",
       "        vertical-align: middle;\n",
       "    }\n",
       "\n",
       "    .dataframe tbody tr th {\n",
       "        vertical-align: top;\n",
       "    }\n",
       "\n",
       "    .dataframe thead th {\n",
       "        text-align: right;\n",
       "    }\n",
       "</style>\n",
       "<table border=\"1\" class=\"dataframe\">\n",
       "  <thead>\n",
       "    <tr style=\"text-align: right;\">\n",
       "      <th></th>\n",
       "      <th>0</th>\n",
       "    </tr>\n",
       "  </thead>\n",
       "  <tbody>\n",
       "    <tr>\n",
       "      <th>0</th>\n",
       "      <td>0</td>\n",
       "    </tr>\n",
       "    <tr>\n",
       "      <th>1</th>\n",
       "      <td>0</td>\n",
       "    </tr>\n",
       "    <tr>\n",
       "      <th>2</th>\n",
       "      <td>0</td>\n",
       "    </tr>\n",
       "    <tr>\n",
       "      <th>3</th>\n",
       "      <td>0</td>\n",
       "    </tr>\n",
       "    <tr>\n",
       "      <th>4</th>\n",
       "      <td>0</td>\n",
       "    </tr>\n",
       "    <tr>\n",
       "      <th>...</th>\n",
       "      <td>...</td>\n",
       "    </tr>\n",
       "    <tr>\n",
       "      <th>564</th>\n",
       "      <td>0</td>\n",
       "    </tr>\n",
       "    <tr>\n",
       "      <th>565</th>\n",
       "      <td>0</td>\n",
       "    </tr>\n",
       "    <tr>\n",
       "      <th>566</th>\n",
       "      <td>0</td>\n",
       "    </tr>\n",
       "    <tr>\n",
       "      <th>567</th>\n",
       "      <td>0</td>\n",
       "    </tr>\n",
       "    <tr>\n",
       "      <th>568</th>\n",
       "      <td>1</td>\n",
       "    </tr>\n",
       "  </tbody>\n",
       "</table>\n",
       "<p>569 rows × 1 columns</p>\n",
       "</div>"
      ],
      "text/plain": [
       "     0\n",
       "0    0\n",
       "1    0\n",
       "2    0\n",
       "3    0\n",
       "4    0\n",
       "..  ..\n",
       "564  0\n",
       "565  0\n",
       "566  0\n",
       "567  0\n",
       "568  1\n",
       "\n",
       "[569 rows x 1 columns]"
      ]
     },
     "execution_count": 4,
     "metadata": {},
     "output_type": "execute_result"
    }
   ],
   "source": [
    "y=data.target\n",
    "y=pd.DataFrame(y)\n",
    "y"
   ]
  },
  {
   "cell_type": "code",
   "execution_count": 5,
   "id": "e484ffa9",
   "metadata": {},
   "outputs": [
    {
     "name": "stdout",
     "output_type": "stream",
     "text": [
      "X train shape: (455, 30)\n",
      "X val shape: (114, 30)\n",
      "y train shape: (455,)\n",
      "y val shape: (114,)\n"
     ]
    }
   ],
   "source": [
    "X_train, X_val, y_train, y_val = train_test_split(X, y[0], test_size=0.2)\n",
    "print('X train shape:',X_train.shape)\n",
    "print('X val shape:',X_val.shape)\n",
    "print('y train shape:',y_train.shape)\n",
    "print('y val shape:',y_val.shape)"
   ]
  },
  {
   "cell_type": "code",
   "execution_count": 6,
   "id": "3c5f2764",
   "metadata": {},
   "outputs": [],
   "source": [
    "def objective_function(params):\n",
    "    fx = []\n",
    "    if len(params)>2:\n",
    "        for i in range (len(params)):\n",
    "            c = params[i,0]\n",
    "            gamma = params[i,1]\n",
    "            model = SVC(C=c, gamma=gamma, kernel='rbf')\n",
    "            model.fit(X_train, y_train)\n",
    "            y_pred = model.predict(X_val)\n",
    "            fx.append(accuracy_score(y_val, y_pred))\n",
    "        return fx\n",
    "    else:\n",
    "        model = SVC(C=params[0], gamma=params[1], kernel='rbf')\n",
    "        model.fit(X_train, y_train)\n",
    "        y_pred = model.predict(X_val)\n",
    "        fx.append(accuracy_score(y_val, y_pred))\n",
    "        return y_pred,fx"
   ]
  },
  {
   "cell_type": "code",
   "execution_count": 7,
   "id": "5d25a659",
   "metadata": {},
   "outputs": [],
   "source": [
    "bounds_parameters = [(0.1, 10.0), (0.0001, 1.0)]"
   ]
  },
  {
   "cell_type": "code",
   "execution_count": 8,
   "id": "e5b4d3bf",
   "metadata": {},
   "outputs": [],
   "source": [
    "max_opt_iter=200\n",
    "D=2\n",
    "size=20\n",
    "limit=1"
   ]
  },
  {
   "cell_type": "code",
   "execution_count": 9,
   "id": "8fc32ca7",
   "metadata": {},
   "outputs": [],
   "source": [
    "def fitness_fun(fx):\n",
    "    fit=np.zeros((size,1))\n",
    "    for i in range(len(fx)):\n",
    "        if fx[i]>=0:\n",
    "            fit[i]=1/(1+fx[i])  \n",
    "        else:\n",
    "            fit[i]=1+abs(fx[i]) \n",
    "    return fit"
   ]
  },
  {
   "cell_type": "code",
   "execution_count": 10,
   "id": "f542baed",
   "metadata": {},
   "outputs": [
    {
     "data": {
      "text/plain": [
       "array([[9.04080286, 0.17720969],\n",
       "       [0.22865617, 0.34778037],\n",
       "       [6.27667048, 0.84920053],\n",
       "       [5.66180347, 0.79548527],\n",
       "       [4.79138759, 0.11896646],\n",
       "       [9.02488287, 0.20621078],\n",
       "       [3.35754671, 0.61478244],\n",
       "       [4.20309869, 0.23921048],\n",
       "       [6.337564  , 0.48277424],\n",
       "       [7.31820046, 0.12232745],\n",
       "       [2.27723564, 0.29123076],\n",
       "       [2.78605815, 0.94353911],\n",
       "       [7.3997961 , 0.81000085],\n",
       "       [2.28329224, 0.79532652],\n",
       "       [1.39125744, 0.07243194],\n",
       "       [0.96881645, 0.22490097],\n",
       "       [0.61271438, 0.38223284],\n",
       "       [0.6496662 , 0.34396239],\n",
       "       [5.36004953, 0.10625768],\n",
       "       [2.46932593, 0.85873837]])"
      ]
     },
     "execution_count": 10,
     "metadata": {},
     "output_type": "execute_result"
    }
   ],
   "source": [
    "x=x=np.zeros((size,D))\n",
    "for i in range(size):\n",
    "    for c in range(D):\n",
    "        if c==0:\n",
    "            m=bounds_parameters[0][0]+random.random()*(bounds_parameters[0][1]-bounds_parameters[0][0])\n",
    "            if m>bounds_parameters[0][1]:\n",
    "                x[i,c]=bounds_parameters[0][1]\n",
    "            elif m<bounds_parameters[0][0]:\n",
    "                x[i,c]=bounds_parameters[0][0]\n",
    "            else:\n",
    "                x[i,c]=m\n",
    "        else:\n",
    "            m=bounds_parameters[1][0]+random.random()*(bounds_parameters[1][1]-bounds_parameters[1][0])\n",
    "            if m>bounds_parameters[1][1]:\n",
    "                x[i,c]=bounds_parameters[1][1]\n",
    "            elif m<bounds_parameters[1][0]:\n",
    "                x[i,c]=bounds_parameters[1][0]\n",
    "            else:\n",
    "                x[i,c]=m \n",
    "x"
   ]
  },
  {
   "cell_type": "code",
   "execution_count": 11,
   "id": "e1089980",
   "metadata": {},
   "outputs": [
    {
     "data": {
      "text/plain": [
       "[0.5877192982456141,\n",
       " 0.5877192982456141,\n",
       " 0.5877192982456141,\n",
       " 0.5877192982456141,\n",
       " 0.5877192982456141,\n",
       " 0.5877192982456141,\n",
       " 0.5877192982456141,\n",
       " 0.5877192982456141,\n",
       " 0.5877192982456141,\n",
       " 0.5877192982456141,\n",
       " 0.5877192982456141,\n",
       " 0.5877192982456141,\n",
       " 0.5877192982456141,\n",
       " 0.5877192982456141,\n",
       " 0.5877192982456141,\n",
       " 0.5877192982456141,\n",
       " 0.5877192982456141,\n",
       " 0.5877192982456141,\n",
       " 0.5877192982456141,\n",
       " 0.5877192982456141]"
      ]
     },
     "execution_count": 11,
     "metadata": {},
     "output_type": "execute_result"
    }
   ],
   "source": [
    "fx=objective_function(x)\n",
    "fx"
   ]
  },
  {
   "cell_type": "code",
   "execution_count": 12,
   "id": "5a3b57c4",
   "metadata": {},
   "outputs": [
    {
     "data": {
      "text/plain": [
       "array([[0.62983425],\n",
       "       [0.62983425],\n",
       "       [0.62983425],\n",
       "       [0.62983425],\n",
       "       [0.62983425],\n",
       "       [0.62983425],\n",
       "       [0.62983425],\n",
       "       [0.62983425],\n",
       "       [0.62983425],\n",
       "       [0.62983425],\n",
       "       [0.62983425],\n",
       "       [0.62983425],\n",
       "       [0.62983425],\n",
       "       [0.62983425],\n",
       "       [0.62983425],\n",
       "       [0.62983425],\n",
       "       [0.62983425],\n",
       "       [0.62983425],\n",
       "       [0.62983425],\n",
       "       [0.62983425]])"
      ]
     },
     "execution_count": 12,
     "metadata": {},
     "output_type": "execute_result"
    }
   ],
   "source": [
    "fitness=fitness_fun(fx)\n",
    "fitness"
   ]
  },
  {
   "cell_type": "code",
   "execution_count": 13,
   "id": "37660eb8",
   "metadata": {},
   "outputs": [
    {
     "data": {
      "text/plain": [
       "array([[0.],\n",
       "       [0.],\n",
       "       [0.],\n",
       "       [0.],\n",
       "       [0.],\n",
       "       [0.],\n",
       "       [0.],\n",
       "       [0.],\n",
       "       [0.],\n",
       "       [0.],\n",
       "       [0.],\n",
       "       [0.],\n",
       "       [0.],\n",
       "       [0.],\n",
       "       [0.],\n",
       "       [0.],\n",
       "       [0.],\n",
       "       [0.],\n",
       "       [0.],\n",
       "       [0.]])"
      ]
     },
     "execution_count": 13,
     "metadata": {},
     "output_type": "execute_result"
    }
   ],
   "source": [
    "trial=np.zeros((size,1))\n",
    "trial"
   ]
  },
  {
   "cell_type": "code",
   "execution_count": 14,
   "id": "96d1e193",
   "metadata": {},
   "outputs": [],
   "source": [
    "def improve(i,x_new):\n",
    "    neigh_index = random.randint(0, D-1)\n",
    "    partner=int(np.ceil(np.random.random()*size))-1\n",
    "    while partner == i:\n",
    "        partner = int(np.ceil(np.random.random()*size))-1\n",
    "    value_x=x_new[i,neigh_index]\n",
    "    value_partner=x_new[partner,neigh_index]\n",
    "    x_new[i,neigh_index]=value_x+ 2*(random.random()-0.5)*(value_x-value_partner)\n",
    "    if neigh_index==0:\n",
    "        if x_new[i,neigh_index]>bounds_parameters[0][1]:\n",
    "            x_new[i,neigh_index]=bounds_parameters[0][1]\n",
    "        elif x_new[i,neigh_index]<bounds_parameters[0][0]:\n",
    "            x_new[i,neigh_index]=bounds_parameters[0][0]\n",
    "    else:\n",
    "        if x_new[i,neigh_index]>bounds_parameters[1][1]:\n",
    "            x_new[i,neigh_index]=bounds_parameters[1][1]\n",
    "        elif x_new[i,neigh_index]<bounds_parameters[1][0]:\n",
    "            x_new[i,neigh_index]=bounds_parameters[1][0]\n",
    "    obj=objective_function(x_new)\n",
    "    if obj[i]>fx[i]:\n",
    "        x[i,:]=x_new[i,:]\n",
    "        fx[i]=obj[i]\n",
    "        trial[i]=0\n",
    "    else:\n",
    "        trial[i]=trial[i]+1"
   ]
  },
  {
   "cell_type": "code",
   "execution_count": 15,
   "id": "00b8c943",
   "metadata": {},
   "outputs": [],
   "source": [
    "def employee():\n",
    "    x_new=x.copy()\n",
    "    for i in range(size):\n",
    "        improve(i,x_new)"
   ]
  },
  {
   "cell_type": "code",
   "execution_count": 16,
   "id": "36542e40",
   "metadata": {},
   "outputs": [],
   "source": [
    "def prob():\n",
    "    sum_fit=np.sum(fitness)\n",
    "    prob_=[]\n",
    "    for i in range(size):\n",
    "        prob_.append(fitness[i]/sum_fit)\n",
    "    return np.array(prob_)    "
   ]
  },
  {
   "cell_type": "code",
   "execution_count": 17,
   "id": "59ee4c11",
   "metadata": {},
   "outputs": [],
   "source": [
    "def onlooker():\n",
    "    prob_=prob()\n",
    "    flage=0\n",
    "    x_new=x.copy()\n",
    "    for i in range(size):\n",
    "        r=np.random.random()\n",
    "        if r<prob_[i]:\n",
    "            improve(i,x_new)\n",
    "        else:\n",
    "            for z in range(i+1,size):\n",
    "                r=np.random.random()\n",
    "                if r<prob_[z]:\n",
    "                    improve(i,x_new)\n",
    "                    flage=1\n",
    "                if flage==1:\n",
    "                    break\n",
    "            if flage==0:         \n",
    "                while(True):\n",
    "                    for z in range(size):\n",
    "                        r=np.random.random()\n",
    "                        if r<prob_[z]: \n",
    "                            improve(i,x_new)\n",
    "                            flage=1\n",
    "                        if flage==1:\n",
    "                            break\n",
    "                    if flage==1:\n",
    "                        break       "
   ]
  },
  {
   "cell_type": "code",
   "execution_count": 18,
   "id": "7adf922a",
   "metadata": {},
   "outputs": [],
   "source": [
    "def scout(H):\n",
    "    for i in H:\n",
    "        for c in range(D):\n",
    "            if c==0:\n",
    "                m=bounds_parameters[0][0]+random.random()*(bounds_parameters[0][1]-bounds_parameters[0][0])\n",
    "                if m>bounds_parameters[0][1]:\n",
    "                    x[i,c]=bounds_parameters[0][1]\n",
    "                elif m<bounds_parameters[0][0]:\n",
    "                    x[i,c]=bounds_parameters[0][0]\n",
    "                else:\n",
    "                    x[i,c]=m\n",
    "            else:\n",
    "                m=bounds_parameters[1][0]+random.random()*(bounds_parameters[1][1]-bounds_parameters[1][0])\n",
    "                if m>bounds_parameters[1][1]:\n",
    "                    x[i,c]=bounds_parameters[1][1]\n",
    "                elif m<bounds_parameters[1][0]:\n",
    "                    x[i,c]=bounds_parameters[1][0]\n",
    "                else:\n",
    "                    x[i,c]=m "
   ]
  },
  {
   "cell_type": "code",
   "execution_count": 19,
   "id": "11ba2cbc",
   "metadata": {},
   "outputs": [
    {
     "name": "stdout",
     "output_type": "stream",
     "text": [
      "iteration # 1\n",
      "best value is: 0.956140350877193\n",
      "best_x is: [1.36778814e+00 1.00000000e-04]\n",
      "prv value is: 0.956140350877193  current value is: 0.5877192982456141 continue\n",
      "prv value is: 0.956140350877193  current value is: 0.956140350877193\n"
     ]
    }
   ],
   "source": [
    "error=.000001\n",
    "best_value=0\n",
    "x_best_value=[]\n",
    "for iteration in range(max_opt_iter):\n",
    "    for i in range(size):\n",
    "        employee()\n",
    "    fitness=fitness_fun(fx)    \n",
    "    for i in range(size):  \n",
    "        onlooker()\n",
    "    fitness=fitness_fun(fx)    \n",
    "    H=[]\n",
    "    for i in range(size):\n",
    "        if trial[i]>limit:\n",
    "            H.append(i)\n",
    "            trial[i]=0\n",
    "    scout(H)\n",
    "    fx=objective_function(x)\n",
    "    fitness=fitness_fun(fx) \n",
    "    if iteration!=0 and max(fx)==best_value or abs(max(fx)-best_value) ==error:\n",
    "        print('prv value is:',best_value,' current value is:',max(fx))\n",
    "        break\n",
    "    elif iteration!=0 and max(fx)<best_value:\n",
    "        print('prv value is:',best_value,' current value is:',max(fx),'continue')\n",
    "        continue        \n",
    "    index=np.argmax(fx)\n",
    "    best_value=fx[index]\n",
    "    x_best_value=x[index].copy()\n",
    "    print('iteration #',iteration+1)\n",
    "    print('best value is:',best_value)\n",
    "    print('best_x is:',x_best_value)"
   ]
  },
  {
   "cell_type": "code",
   "execution_count": 20,
   "id": "c9213d1c",
   "metadata": {},
   "outputs": [
    {
     "data": {
      "text/plain": [
       "0.956140350877193"
      ]
     },
     "execution_count": 20,
     "metadata": {},
     "output_type": "execute_result"
    }
   ],
   "source": [
    "best_value"
   ]
  },
  {
   "cell_type": "code",
   "execution_count": 21,
   "id": "d982f62d",
   "metadata": {},
   "outputs": [
    {
     "data": {
      "text/plain": [
       "array([1.36778814e+00, 1.00000000e-04])"
      ]
     },
     "execution_count": 21,
     "metadata": {},
     "output_type": "execute_result"
    }
   ],
   "source": [
    "x_best_value"
   ]
  },
  {
   "cell_type": "code",
   "execution_count": 22,
   "id": "fb9102f7",
   "metadata": {},
   "outputs": [
    {
     "name": "stdout",
     "output_type": "stream",
     "text": [
      "[0.956140350877193]\n"
     ]
    }
   ],
   "source": [
    "y_pred,value=objective_function(x_best_value)\n",
    "print(value)"
   ]
  },
  {
   "cell_type": "code",
   "execution_count": 23,
   "id": "7f1055c0",
   "metadata": {},
   "outputs": [
    {
     "data": {
      "text/plain": [
       "array([[42,  5],\n",
       "       [ 0, 67]], dtype=int64)"
      ]
     },
     "execution_count": 23,
     "metadata": {},
     "output_type": "execute_result"
    },
    {
     "data": {
      "image/png": "[encoded data removed]",
      "text/plain": [
       "<Figure size 640x480 with 1 Axes>"
      ]
     },
     "metadata": {},
     "output_type": "display_data"
    }
   ],
   "source": [
    "CM = confusion_matrix(y_val, y_pred)\n",
    "sns.heatmap(CM, annot=True, fmt='g',cbar=False,cmap='RdBu')\n",
    "CM"
   ]
  }
 ],
 "metadata": {
  "kernelspec": {
   "display_name": "Python 3 (ipykernel)",
   "language": "python",
   "name": "python3"
  },
  "language_info": {
   "codemirror_mode": {
    "name": "ipython",
    "version": 3
   },
   "file_extension": ".py",
   "mimetype": "text/x-python",
   "name": "python",
   "nbconvert_exporter": "python",
   "pygments_lexer": "ipython3",
   "version": "3.9.13"
  }
 },
 "nbformat": 4,
 "nbformat_minor": 5
}
